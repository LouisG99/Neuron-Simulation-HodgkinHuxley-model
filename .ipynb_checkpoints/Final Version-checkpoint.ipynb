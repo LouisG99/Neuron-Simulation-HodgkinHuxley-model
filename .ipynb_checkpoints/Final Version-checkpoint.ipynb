{
 "cells": [
  {
   "cell_type": "markdown",
   "metadata": {},
   "source": [
    "# Physics 260 Final Project:\n",
    "## Modeling the transmission of action potentials with the Hodgkin-Huxley model\n",
    "### Louis Gouirand - December 11, 2018"
   ]
  },
  {
   "cell_type": "markdown",
   "metadata": {},
   "source": [
    "## Abstract\n",
    "The Hodgkin-Huxley model provides a mathematical representation of how action potentials (which enable neuronal messages to travel through the nerves) are initiated and then propagated. This model, created in 1952, was revolutionary and received the Nobel Prize for Physiology or Medicine in 1963 [1]. The goal of this project was to implement this model through Python code to then derive an estimation of the speed of action potentials. We will see how the model did enable us to obtain such estimation, as well as confirm the relationship between the diameter of a neuron fiber and the speed of action potentials.<br>\n",
    "The speed was obtained by modeling a neuron fiber of fixed length and dividing its membrane into several electrical circuits. By producing a short current spike through the fiber (which is how the action potential is produced physiologically), and recording how long it took to travel the fiber of known length, the speed was obtained using the simple relation $$ velocity = \\frac{length}{time} $$ <br>\n",
    "Considering the wide range of values that the speed of action potentials take [2], it will be shown the model produced satisfying results. "
   ]
  },
  {
   "cell_type": "markdown",
   "metadata": {},
   "source": [
    "## Introduction and Motivation\n",
    "One of the main reasons I was appealed towards this topic was its multidisciplinary aspect. The Hodgkin-Huxley model is fascinating in the fact that it combines physics and mathematics to explain a physiological phenomenon that is unknown to most of us. \n",
    "Furthermore, the process of transmitting action potentials through nerves to our brain is literally at the center of every action we take. I believe anyone would thus be interested in learning more about such process since it is so fundamental to our inner-workings."
   ]
  },
  {
   "cell_type": "markdown",
   "metadata": {},
   "source": [
    "## Background\n",
    "We will present here the basics of action potential transmission here, first from a biological point of view, and then through the Hodgkin-Huxely model. \n",
    "#### Biological description\n",
    "One can think of a neuron fiber as a cylinder. The action potential is transmitted by changing the polarity of the membrane. Ions flow in and out of the membrane as the action potential travel through to change the polarity [2]. Here is a visual representation of the process: "
   ]
  },
  {
   "cell_type": "code",
   "execution_count": 1,
   "metadata": {},
   "outputs": [
    {
     "data": {
      "text/html": [
       "<img src=\"https://img.tfd.com/hc/bio/fig153.jpg\" width=\"400\" height=\"100\"/>"
      ],
      "text/plain": [
       "<IPython.core.display.Image object>"
      ]
     },
     "execution_count": 1,
     "metadata": {},
     "output_type": "execute_result"
    }
   ],
   "source": [
    "# necessary because the image is originally very big\n",
    "from IPython.display import Image\n",
    "from IPython.core.display import HTML \n",
    "Image(url= \"https://img.tfd.com/hc/bio/fig153.jpg\", width=400, height=100) # [3]"
   ]
  },
  {
   "cell_type": "markdown",
   "metadata": {},
   "source": [
    "One thing to say however is that, although the above illustration shows the potential of a membrane \"at rest\" is negative, we will assume it to be 0mV to simplify our calculations. It should be understood this will not impact our conclusions since we are only concerned about the transmission of the signal rather than the signal itself. Moreover, at the time Hodgkin and Huxely developed their model, it was still thought the resting potential of the membrane was 0. [1]\n",
    "\n",
    "#### The Hodgkin-Huxley model\n",
    "The model represents the neuron fiber by the following eletrical circuit [4]:\n",
    "![Hodgkin-Huxley representation of the neuron fiber membrane](http://icwww.epfl.ch/~gerstner/SPNM/img92.gif)\n",
    "<br>Here the capacitor represents the membrane, the components \"K\" and \"Na\" represents the channels through which ions can flow in and out of the fiber. Finally the constant resistance represents a third kind of ion leakage channel. The inflowing current represents the current coming into the fiber when an action potential has been initiated. \n",
    "The model provides equations to obtain the current through the \"K\", \"Na\" and constant resistance channels. Using the current rule, we can obtain the current through the capacitor as such: \n",
    "$$ I_C = I - (I_N + I_K + I_R)$$\n",
    "Then, we can obtain the change in the membrane's potential by deriving the following differential equation: \n",
    "$$ C = \\frac{Q}{u} $$ (u is the membrane's potential / capacitor voltage). Then the previous equation becomes\n",
    "$$ C \\frac{du}{dt} = I - (I_N + I_K + I_R) $$ and we assumed previously that $$ u(t_0) = 0 mV $$\n",
    "\n",
    "The model provides equations on how to compute the necessary currents. Note that the m, n and h coefficients obey other equations given by the model, but for simplicity those will only be included in the code portion. \n",
    "$$ I_N = g_N m^3 h (u - E_N)$$\n",
    "$$ I_K = g_K n^4 (u - E_K)$$\n",
    "$$ I_R = g_L (u - E_L)$$\n",
    "Since the membrane voltage u and the current in are times dependent, we get the following equation\n",
    "$$ \\frac{du}{dt} = C [I - g_N m^3 h (u - E_N) - g_K n^4 (u - E_K) - g_L (u - E_L)] $$\n",
    "<br>Where the values of the above constants are as such: ![Constants of the HH model](http://icwww.epfl.ch/~gerstner/SPNM/img97.gif)\n",
    "\n",
    "(alpha and beta values will come in useful for the equations of the m, n and h coefficients mentioned previously.)<br>\n",
    "Sources: [4]\n",
    "\n",
    "#### Cable theory equation\n",
    "Finally, to implement our final model, we will need a way of finding the current going into the different \"sub-circuits\" of the membrane to use the Hodgkin-Huxley equations. To help visualize what the final model will look like here is a diagram [5]. The cylinder represents the neuron fiber. Each circuit will be slightly different (to respect the HH model) but the diagram represents the general outline. \n",
    "![cable theory image](https://ars.els-cdn.com/content/image/1-s2.0-S1878778915000320-gr3.jpg)\n",
    "<br>Using the above diagram, let <i>dx</i> be the horizontal length of each subsection of the membrane (or \"cable\" here). Let <i>deltaR</i> be the resistance of the section of the central \"wire\" separating two adjacent circuits. Finally, let <i>V_M(x, t)</i> be the potential of each circuits at distance <i>x</i> at time <i>t</i>. We get the following equation: \n",
    "$$ V_M(x+dx, t) - V_M(x, t) = -I_c(x, t) \\Delta R $$\n",
    "$$ I_c(x, t) = - \\Delta R \\frac {dV_M(x, t)}{d x}(x, t) $$\n",
    "\n",
    "(using the limit)\n",
    "\n",
    "Sources: [5]"
   ]
  },
  {
   "cell_type": "markdown",
   "metadata": {},
   "source": [
    "## Setup\n",
    "#### General outline\n",
    "As said above, we will be representing a neuron as a succession of circuits to represent different pieces of the membrane. Each of the circuits will follow the representation given by the Hodgkin-Huxley model. To trigger the action potential we will simulate a very short current spike, which will go through the first circuit of the membrane.\n",
    "\n",
    "#### Starting with the code\n",
    "To accomplish this, we define a class representing a ciruit of the Hodkin-Huxley model. The class will keep track of different value properties as well as contain methods to implement the equations for the <i>m</i>, <i>n</i> and <i>h</i> coefficients as well as the currents through the different segments of the circuit."
   ]
  },
  {
   "cell_type": "code",
   "execution_count": 2,
   "metadata": {},
   "outputs": [],
   "source": [
    "# Necessary libraries for the programming portion\n",
    "import numpy as np              ## for numerical functions\n",
    "import matplotlib.pyplot as plt ## for plots\n",
    "from math import exp            ## necessary for calculations of m, n and h"
   ]
  },
  {
   "cell_type": "code",
   "execution_count": 3,
   "metadata": {},
   "outputs": [],
   "source": [
    "class HHcircuit: # Representation of the circuit of the HH model, physically represents \n",
    "                 # membrane and ion channels of a neuron fiber\n",
    "        \n",
    "    def __init__(self, gNa, gK, gL, C, mu, E_Na, E_K, E_L): # constructor\n",
    "        self.gNa = gNa\n",
    "        self.gK = gK\n",
    "        self.gL = gL\n",
    "        self.m = 0.0\n",
    "        self.n = 0.0\n",
    "        self.h = 0.0\n",
    "        self.C = C\n",
    "        self.mu = mu\n",
    "        \n",
    "        self.E_Na = E_Na\n",
    "        self.E_K = E_K\n",
    "        self.E_L = E_L\n",
    "        \n",
    "        self.recorded_mu = []\n",
    "        \n",
    "    def update_m(self, dt): # updates m using diff eqs of HH model\n",
    "        alpha_m = (2.5-0.1*self.mu)/(exp(2.5-0.1*self.mu) - 1)\n",
    "        beta_m = 4*exp(-self.mu / 18)\n",
    "        dm = dt * (alpha_m*(1-self.m) - beta_m*self.m)\n",
    "        self.m += dm\n",
    "        return self.m\n",
    "    \n",
    "    def update_n(self, dt): # updates n using diff eqs of HH model\n",
    "        alpha_n = (0.1-0.01*self.mu)/(exp(1-0.1*self.mu) - 1)\n",
    "        beta_n = 0.125*exp(-self.mu / 80)\n",
    "        dn = dt * (alpha_n*(1-self.n) - beta_n*self.n)\n",
    "        self.n += dn\n",
    "        return self.n\n",
    "    \n",
    "    def update_h(self, dt): # updates h using diff eqs of HH model\n",
    "        alpha_h = 0.07*exp(-self.mu / 20)\n",
    "        beta_h = 1 / (exp(3-0.1*self.mu)+1)\n",
    "        dh = dt * (alpha_h*(1-self.h) - beta_h*self.h)\n",
    "        self.h += dh\n",
    "        return self.h\n",
    "    \n",
    "    def sum_I_channels(self): # returns current through capacitor \n",
    "        s = 0\n",
    "        s += self.gNa* (self.m)**3 *self.h*(self.mu-self.E_Na)\n",
    "        s += self.gK* (self.n)**4 *(self.mu-self.E_K)\n",
    "        s += self.gL*(self.mu - self.E_L)\n",
    "        return s"
   ]
  },
  {
   "cell_type": "markdown",
   "metadata": {},
   "source": [
    "We also store some physiological constants we will need [4]:"
   ]
  },
  {
   "cell_type": "code",
   "execution_count": 4,
   "metadata": {},
   "outputs": [],
   "source": [
    "# assuming rest membrane potential of 0 mV\n",
    "E_Na = 115.0 # mV\n",
    "E_K = -12.0\n",
    "E_L = 10.6\n",
    "gNa = 120.0 # mS/cm^2\n",
    "gK = 36.0\n",
    "gL = 0.3\n",
    "mu0 = 0.0 # assumes rest potential of membrane is 0mV"
   ]
  },
  {
   "cell_type": "markdown",
   "metadata": {},
   "source": [
    "#### Preliminary check\n",
    "We can check the current simplified model we have makes sense by only using one capacitor and running a current pulse through it. It should represent what happens at a lower scale of what we will do later. Moreover, the code will serve as a shell for our further developments. \n",
    "We will verify the model makes sense by obtaining and plotting the membrane potential at different times and see if it matches known scientifical results. \n",
    "<br>For this we first define a short function that returns an array of the membrane's voltage and an array of the different corresponding times. We will then plot the results"
   ]
  },
  {
   "cell_type": "code",
   "execution_count": 5,
   "metadata": {},
   "outputs": [],
   "source": [
    "def run_experiment(T, I_peak, C): \n",
    "    neuron = HHcircuit(gNa, gK, gL, C, mu0, E_Na, E_K, E_L)\n",
    "    recorded_mu = []\n",
    "    times = []\n",
    "\n",
    "    t_steps = 10000\n",
    "    dt = T / t_steps\n",
    "    t = 0.0 # ms\n",
    "\n",
    "    first_pass = False # enables to have a current peak of duration dt only\n",
    "\n",
    "    for i in range(t_steps):\n",
    "        # update HH model coefficients\n",
    "        neuron.update_n(dt)\n",
    "        neuron.update_m(dt)\n",
    "        neuron.update_h(dt)\n",
    "\n",
    "        # Update voltage through Capacitor (membrane)\n",
    "        sum_currents = I_peak - neuron.sum_I_channels()\n",
    "\n",
    "        d_mu = sum_currents / neuron.C * dt\n",
    "        neuron.mu += d_mu\n",
    "\n",
    "        # save and update data\n",
    "        recorded_mu.append(neuron.mu)\n",
    "        times.append(t)\n",
    "        t += dt\n",
    "        \n",
    "        # makes sure the current peak is just a pulse of duration dt\n",
    "        if not first_pass: \n",
    "            I_peak = 0.0\n",
    "            first_pass == True\n",
    "    \n",
    "    return recorded_mu, times"
   ]
  },
  {
   "cell_type": "code",
   "execution_count": 6,
   "metadata": {},
   "outputs": [
    {
     "data": {
      "image/png": "[encoded data removed]",
      "text/plain": [
       "<Figure size 432x288 with 1 Axes>"
      ]
     },
     "metadata": {},
     "output_type": "display_data"
    }
   ],
   "source": [
    "# Plotting the results\n",
    "recorded_mu, times = run_experiment(50.0, 100.0, 1.0)\n",
    "\n",
    "plt.plot(times, recorded_mu)\n",
    "plt.xlabel(\"time (ms)\")\n",
    "plt.ylabel(\"Membrane potential (mV)\")\n",
    "plt.title(\"After spike in current of length dt\")\n",
    "plt.show()\n"
   ]
  },
  {
   "cell_type": "markdown",
   "metadata": {},
   "source": [
    "The graph is corresponding to what experiments have shown the evolution of the membrane potential to be when exposed to an action potential. [2]\n",
    "#### Finding the duration of the transmission\n",
    "Our next steps towards our final model is to define a function to measure how long the signal (action potential) took to travel through the circuit. This was a bit challenging as it required some calibration but we will use the following method. \n",
    "\n",
    "We will first detect the point at which the membrane potential crosses the mu = 0 axis. After that point, we will consider the signal as fully transmitted as soon as the membrane potential is stable. We will find that point by seeing when two succesive recordings of the membrane potential are at very small values. The following functions handles this. "
   ]
  },
  {
   "cell_type": "code",
   "execution_count": 7,
   "metadata": {},
   "outputs": [],
   "source": [
    "def find_period(recorded_mu, times):\n",
    "    max_val = max(recorded_mu)\n",
    "    axis_cross = False\n",
    "    \n",
    "    for i in range(1, len(recorded_mu)):\n",
    "        # checks if 2 values in a row are of different sign (indicates x-axis cross)\n",
    "        if recorded_mu[i]/recorded_mu[i-1] < 0: \n",
    "            axis_cross = True\n",
    "        if axis_cross:\n",
    "            if abs(recorded_mu[i]) < 1.0e-3 and abs(recorded_mu[i-1]) < 1.0e-3:\n",
    "                return times[i]\n",
    "    return 2*times[-1]  # indicates the period for the experiment chosen was too small as the potential\n",
    "                        # oscillation is not complete"
   ]
  },
  {
   "cell_type": "markdown",
   "metadata": {},
   "source": [
    "#### Putting it all together\n",
    "Finally, using our previous work we construct a coded representation of the layout presented at the beginning of our \"Setup\" section. This will be done through the implementation of a new function. Which takes the diameter and length of the neuron fiber wanted, as well as the amplitude of the current spike to create the action potential. The function will return an array with the membrane potential of each subcircuits at each time t, along with an array of the different times at which updates are made. Finally we will need the length of each subsections of the fiber to calculate the speed.\n",
    "\n",
    "To obtain the speed we will first find the time at which the signal has been fully transmitted by the last subcircuit. Since the signal enters the first subcircuit at time t = 0, the previously mentioned time will give us the time in which the signal travelled the distance separating the end of the first and last subcircuits. \n",
    "\n",
    "That is all we need as we will use known physiological constants for the rest of the numerical values needed (including some new ones, [6], [7])."
   ]
  },
  {
   "cell_type": "code",
   "execution_count": 8,
   "metadata": {},
   "outputs": [],
   "source": [
    "# Additional physiological constants\n",
    "C_per_area = 1.0 # microF/cm^2,\n",
    "R_cyto_per_L = 70.0 # ohms/cm"
   ]
  },
  {
   "cell_type": "code",
   "execution_count": 9,
   "metadata": {},
   "outputs": [],
   "source": [
    "def run_experiment2(diam_fiber, neuron_length, I_peak): # in cm and mA\n",
    "    area = np.pi * diam_fiber * neuron_length # cm^2\n",
    "    C = area * C_per_area # microF/cm^2, capacitance of the entire fiber\n",
    "    \n",
    "    L_steps = 100\n",
    "    dL = neuron_length / L_steps # length of one subsections\n",
    "    dC = np.pi * diam_fiber * dL * C_per_area # capacitance of one \"subcircuit\"\n",
    "\n",
    "    dR = dL * R_cyto_per_L # resistance of one \"subsegment\" of the central membrane axis\n",
    "    \n",
    "    I_central = [] # contains currents going into each subcircuits at current time\n",
    "    mus_array = [] # array of arrays of membrane potential at different time for each \"subsection\"\n",
    "    neurons_array = [] # array containing class instances of each \"subcircuit\"\n",
    "\n",
    "    # initializing the 3 arrays declared above\n",
    "    n = HHcircuit(gNa, gK, gL, dC, mu0, E_Na, E_K, E_L) \n",
    "    for i in range(L_steps): \n",
    "        neurons_array.append(n)\n",
    "        mus_array.append([])\n",
    "        I_central.append(0)\n",
    "\n",
    "    I_central[0] = I_peak # instantiates current spike going into first subcircuit\n",
    "    times = [] # array of different times where updates are done\n",
    "    T = 1.5 # ms, total runtime of the experiment\n",
    "    t_steps = 10000\n",
    "    dt = T / t_steps\n",
    "    t = 0.0 # ms\n",
    "\n",
    "    for t_i in range(t_steps): \n",
    "        \n",
    "        for x in range(L_steps):\n",
    "            neuron = neurons_array[x]\n",
    "            # update HH model coefficients\n",
    "            neuron.update_n(dt)\n",
    "            neuron.update_m(dt)\n",
    "            neuron.update_h(dt)\n",
    "            \n",
    "            # Update voltage through Capacitor (membrane)\n",
    "            sum_currents = I_central[x] - neuron.sum_I_channels()\n",
    "            d_mu = sum_currents / neuron.C * dt\n",
    "            neuron.mu += d_mu\n",
    "\n",
    "            # save and update data\n",
    "            neurons_array[x] = neuron\n",
    "            mus_array[x].append(neuron.mu)\n",
    "\n",
    "            if x==0: # handling edge case (literally) for cable equation\n",
    "                dV_dx = 0.0\n",
    "            else:\n",
    "                dV_dx = (mus_array[x][-1] - mus_array[x-1][-1]) / dL\n",
    "            I_central[x] = - dR * dV_dx # cable equation\n",
    "\n",
    "        times.append(t)\n",
    "        t += dt\n",
    "        \n",
    "    return times, mus_array, dL"
   ]
  },
  {
   "cell_type": "code",
   "execution_count": 10,
   "metadata": {},
   "outputs": [],
   "source": [
    "def speed(mus_array, times, neuron_length, dL):\n",
    "    T_last = find_period(mus_array[-1], times)\n",
    "    speed_units = (neuron_length - dL) / T_last # cm/ms\n",
    "    return speed_units * 10**1 # m/s"
   ]
  },
  {
   "cell_type": "markdown",
   "metadata": {},
   "source": [
    "## Results and Conclusions\n",
    "#### Results\n",
    "Now that we have our complete model, we will put it to use to derive the speed of action potentials travelling our bodies. We will use a neuron of length 1 cm and diameter 1 cm as that is a rather typical value [8]. \n",
    "\n",
    "Note that the value of the voltage does not really matter. As long as it is above a certain threshold, the induced peak in potential will be the same [2]."
   ]
  },
  {
   "cell_type": "code",
   "execution_count": 11,
   "metadata": {},
   "outputs": [],
   "source": [
    "neuron_length = 1.0 # cm\n",
    "I_peak = 10.0 # mA\n",
    "times, mus_array, dL = run_experiment2(1.0, neuron_length, 10.0)"
   ]
  },
  {
   "cell_type": "code",
   "execution_count": 12,
   "metadata": {},
   "outputs": [
    {
     "name": "stdout",
     "output_type": "stream",
     "text": [
      "Speed of action potential: 21.51940006521102 meters per second\n"
     ]
    }
   ],
   "source": [
    "s = speed(mus_array, times, neuron_length, dL)\n",
    "print(\"Speed of action potential: \" + str(s) + \" meters per second\")"
   ]
  },
  {
   "cell_type": "markdown",
   "metadata": {},
   "source": [
    "Previous experimental reuslts [9] indicate we should expect a speed between 35 and 75 meters per second. While our predication falls a bit short, we still are in the right order of magnitude. One thing to notice too is that our previous source indicates speed should scale with the diameter of the fiber our model reflects that. One way of showing that is to obtain the speed predicted by the model for a bigger diameter (we would expect the speed to be bigger than 21.5 m/s then). (Because the runtime is so long every time we call run_experiment2(), we will just try one additional value). "
   ]
  },
  {
   "cell_type": "code",
   "execution_count": 13,
   "metadata": {},
   "outputs": [
    {
     "name": "stdout",
     "output_type": "stream",
     "text": [
      "Speed of action potential: 55.3227158424133 meters per second\n"
     ]
    }
   ],
   "source": [
    "times, mus_array, dL = run_experiment2(10.0, neuron_length, 10.0)\n",
    "s = speed(mus_array, times, neuron_length, dL)\n",
    "print(\"Speed of action potential: \" + str(s) + \" meters per second\")"
   ]
  },
  {
   "cell_type": "markdown",
   "metadata": {},
   "source": [
    "#### Conclusions\n",
    "We saw our model does fall slighly short concerning the exact value of the speed of action potentials. This margin of error could potentially be attributed to our find_period() function. Indeed, additional calibration to find the end of the transmission signal may be necessary to obtain a value closer to what has been physically recorded. \n",
    "\n",
    "However, the model does show very well the evolution of the membrane potential when exposed to an action potential.\n",
    "Futhermore, we were able to observe that, as predicted by actual expirements, the speed of action potential scales with the diameter of neuron fibers. It will be interesting to note that the first approach to the project that was taken was to represent the whole neuron fiber by only one Hodgkin-Huxley circuit. However that approach was unsuccesful as it was not showing that relationship between diameter of fiber and speed of action potential. \n",
    "\n",
    "Another interesting element to think about is that, this relationship between neuron fiber diameter and speed of action potential actually helps explain part of the structure of our nervous system. Indeed, it is because the neuron fibers of the peripheral nervous system (which contains the spinal cord [10]) of the spinal cord are much thicker than those of other parts of our body [11] that the spinal cord serves as the main path for neuronal messages as it provides higher transmission speeds.\n",
    "\n",
    "Overall, the Hodgkin-Huxley model provides a very good representation of our action potential transmission system. Although we now possess powerful measurement abilities, the model is still of great interest as it unifies biological phenomenons and physical phenomenons. It provides an additional step towards a Grand Unified Theory of our universe's phenomenons!"
   ]
  },
  {
   "cell_type": "markdown",
   "metadata": {},
   "source": [
    "### Sources\n",
    "[1] Wikipedia, Article on the Hodgkin-Huxley model. URL: https://en.wikipedia.org/wiki/Hodgkin–Huxley_model\n",
    "\n",
    "[2] Wikipedia, Article \"Action Potential\". URL: https://en.wikipedia.org/wiki/Action_potential\n",
    "\n",
    "[3] Medical Dictionnary, \"Depolarization\". URL: https://medical-dictionary.thefreedictionary.com/phase+4+depolarization\n",
    "\n",
    "[4] EPFL, Lausanne Switzerland, Prof. Gerstner's website. URL: http://icwww.epfl.ch/~gerstner/SPNM/node14.html\n",
    "\n",
    "[5] University of Pittsburgh, Dept of Mathematics Website. URL: http://www.math.pitt.edu/~bdoiron/assets/ermentrout-and-terman-ch-1.pdf (Section 1.6)\n",
    "\n",
    "[6] UPenn, Neurology lab manual. URL: https://www.sas.upenn.edu/LabManuals/BBB251/NIA/NEUROLAB/MEMB/lipidbil.htm\n",
    "\n",
    "[7] core.ac.uk, Paper on \"The electrical resistivity of the cytoplasm\". URL: https://core.ac.uk/download/pdf/82549334.pdf\n",
    "\n",
    "[8] Wikipedia, Article \"Axon\". URL: https://en.wikipedia.org/wiki/Axon \n",
    "\n",
    "[9] Electromyography and Neuromuscular Disorders: Clinical-Electrophysiologic Correlations, David C. Preston M.D. URL for table used: https://qph.fs.quoracdn.net/main-qimg-1633157491567f70891e2dcd8fc3c094\n",
    "\n",
    "[10] Wikipedia, Article on the peripheral nervous system. URL: https://en.wikipedia.org/wiki/Peripheral_nervous_system\n",
    "\n",
    "[11] Wikipedia, Article \"Neuron\". URL: https://en.wikipedia.org/wiki/Neuron"
   ]
  },
  {
   "cell_type": "markdown",
   "metadata": {},
   "source": [
    "Thanks for reading through!"
   ]
  },
  {
   "cell_type": "code",
   "execution_count": null,
   "metadata": {},
   "outputs": [],
   "source": []
  }
 ],
 "metadata": {
  "kernelspec": {
   "display_name": "Python 3",
   "language": "python",
   "name": "python3"
  },
  "language_info": {
   "codemirror_mode": {
    "name": "ipython",
    "version": 3
   },
   "file_extension": ".py",
   "mimetype": "text/x-python",
   "name": "python",
   "nbconvert_exporter": "python",
   "pygments_lexer": "ipython3",
   "version": "3.6.5"
  }
 },
 "nbformat": 4,
 "nbformat_minor": 2
}
