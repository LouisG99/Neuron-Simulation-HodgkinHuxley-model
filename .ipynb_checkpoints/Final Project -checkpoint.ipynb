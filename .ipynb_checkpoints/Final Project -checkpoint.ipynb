{
 "cells": [
  {
   "cell_type": "markdown",
   "metadata": {},
   "source": [
    "## Hodgkin-Huxley model\n",
    "\n",
    "### intro or smth like that\n",
    "\n",
    "## Notes for the moment\n",
    "\n",
    "### Notes on description of model\n",
    "Models formlates current such that:\n",
    "* $\\displaystyle \\sum_{k}^{}$Ik = gNa m^3 h (u - ENa) + gK n^4 (u - EK) + gL (u - EL).\n",
    "\n",
    "If all channels open, transmit current with max conductance gNa and gK respectively (other channel has constant conductance given as 1/R)\n",
    "\n",
    "<li>ENa, EK and EL, AND the conducatances are empirical parameters, and are the reversal potentials:\n",
    "<li><b>Reversal potential:</b> reversal potential of an ion is membrane potential at which no net low of that particular ion fom one side of membrane to the other</li>\n",
    "<i>Original value of these parameters reported by Hodgkin and Huxley are given on website http://icwww.epfl.ch/~gerstner/SPNM/node14.html.</i><br>\n",
    "NOTE: need to shift voltage values by -65mV because those were given with a resting potential assumed to be 0, but not the case\n",
    "</li>\n",
    "\n",
    "#### m, n and h:\n",
    "are called the \"gating variables\" and evolve according to differential eqs (given on websit). Those equations include alpha and beta factors that both are expressions of the membrane volatage mu. \n",
    "\n",
    "### Notes on dynamics of model\n",
    "<li>m and n increase with mu, while h decrease (graph of this to support it)</li>\n",
    "<li> --> if some external input cause membrane voltage mu to rise, conductance of Na channels increase --> positive Na ions flow into cell and raise even further membrane potential mu. If large enough --> action potential initiated.</li>\n",
    "<li><b>Threshold type behavior:</b>action potential (which is a traveling spike in membrane potential) is initiated by a peak in current. If that peak in current is not high enough, don't get high large-soike excursion, but just small var. </li>\n",
    "<li><b>Pulling the membrane voltage back down:</b>the K+ channel is outward so when open, it lowers potential. --> Overall effect is large spike in potential, and then h factor and K+ channel pull it back down (with a temp overshoot since temporarly get potential below rest potential.</li>\n",
    "<li><b>With constant input current:</b> if I larger than some critical value known (I_theta) observe regular spiking in membrane potential. </li>\n",
    "<li><b>Step current input:</b> whether triggers action potential or not depends on both the constant current value and the spike value too.</li> \n",
    "<li><b>Interesting element, refratoriness:</b> during hyperpolarization period followed action potential due to input current, neuron incapable of reacting to same input current</li>\n",
    "\n",
    "\n",
    "### What type of current input is associated with vision stimulus from retina? \n",
    "\n",
    "#### Additional Notes:\n",
    "Also need to figure out: <ul>\n",
    "    <li>Do I have to take into account the what happens with synapses too?</li>\n",
    "    <li>How much time needed to send response signal once signal reached brain?</li>\n",
    "    <li>How long is the path from retina to brain and from brain to right arm?</li>\n",
    "    <li><b>Example situation that will be chosen for project:</b> to make things more dramatic, will assume you are in a boxing match, and see your opponent's arm starting to move towards your face. Assume arm moving at 5 m/s (maybe change that val later), assuming separation between you two is 1.5m, at what distance from your face will arm be when start reacting?</li>\n",
    "    <li>Ask papa for length of neuronal path, time for brain to analyze signal, what happens in synapses, etc</li>\n",
    "    </ul>\n",
    "    \n",
    "### Setup so far: \n",
    "<ul>\n",
    "    <li>Decided would start by modeling one neuron with length <i>1 cm</i></li>\n",
    "    <li>Seems like each cicuit represents a part of the axon <b><i>parallel</i></b> to the direction the signal is being transmitted --> pick axon length, number of segments to cut it in, and associate a distinct ciruit with each of those (need to store the different parameters associated with each of them --> make a class that contains all variables need for circuit and make array of instances of that object). </li> \n",
    "    <li>What wanna \"plot\"/see evolve is the membrane voltage. Relation with current given on website --> calculate current to get mu. "
   ]
  },
  {
   "cell_type": "code",
   "execution_count": 2,
   "metadata": {},
   "outputs": [],
   "source": [
    "import numpy as np                         ## numpy is a library that inclues most of the numerical funciton you will need\n",
    "import matplotlib.pyplot as plt            ## this is the library we use to plot"
   ]
  },
  {
   "cell_type": "code",
   "execution_count": null,
   "metadata": {},
   "outputs": [],
   "source": []
  }
 ],
 "metadata": {
  "kernelspec": {
   "display_name": "Python 3",
   "language": "python",
   "name": "python3"
  },
  "language_info": {
   "codemirror_mode": {
    "name": "ipython",
    "version": 3
   },
   "file_extension": ".py",
   "mimetype": "text/x-python",
   "name": "python",
   "nbconvert_exporter": "python",
   "pygments_lexer": "ipython3",
   "version": "3.6.5"
  }
 },
 "nbformat": 4,
 "nbformat_minor": 2
}
