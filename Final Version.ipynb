{
 "cells": [
  {
   "cell_type": "markdown",
   "metadata": {},
   "source": [
    "# Physics 260 Final Project:\n",
    "## Modeling the transmission of action potentials with the Hodgkin-Huxley model\n",
    "### Louis Gouirand - December 11, 2018"
   ]
  },
  {
   "cell_type": "markdown",
   "metadata": {},
   "source": [
    "## Abstract\n",
    "The Hodgkin-Huxley model provides a mathematical representation of how action potentials (which enable neuronal messages to travel through the brain [1]) are initiated and then propagated. This model, created in 1952, was revolutionary and awarded the Nobel Prize for Physiology or Medicine in 1963. The goal of this project was to implement this model through Python code to then derive an estimation of the speed of action potentials. In that regard, the model provided rather satisfying results.<br>\n",
    "The speed was obtained by modeling a neuron fiber of fixed length and dividing its membrane into several electrical circuits. By producing a short current spike through the fiber (which is how the action potential is manifested physiologically), and recording how long it took to travel the fiber of known length, the speed was obtained using the simple relation $$ velocity = \\frac{length}{time} $$ <br>\n",
    "Considering the wide range of values that the speed of action potentials take, it will be shown the model produced satisfying results. "
   ]
  },
  {
   "cell_type": "markdown",
   "metadata": {},
   "source": [
    "## Introduction and Motivation\n",
    "One of the main reasons I was appealed towards this topic was its multidisciplinary aspect. The Hodgkin-Huxley model is fascinating in the fact that it combines physics and mathematics to explain a physiological phenomenon that is unknown to most of us. \n",
    "Furthermore, the process of transmitting action potentials through nerves to our brain is literally at the center of every action we take. I believe anyone would thus be interested in learning more about such process since it is so fundamental to our inner-workings. <i><b>For this reason, we will show here how we can use our final result to get the time it takes to trigger a reflex. </b></i>"
   ]
  },
  {
   "cell_type": "markdown",
   "metadata": {},
   "source": [
    "## Background\n",
    "We will present here the basics of action potential transmission here, first from a biologica point of view, and then from the point of view of the Hodgkin-Huxely model. \n",
    "#### Biological description\n",
    "One can think of a neuron fiber as a cylinder. The action potential is trasmitted by changing the polarity of the membrane. Ions flow in and out of the membrane as the action potential travel through to change the polarity. Here is a visual representation of the process: "
   ]
  },
  {
   "cell_type": "code",
   "execution_count": 19,
   "metadata": {},
   "outputs": [
    {
     "data": {
      "text/html": [
       "<img src=\"https://img.tfd.com/hc/bio/fig153.jpg\" width=\"400\" height=\"100\"/>"
      ],
      "text/plain": [
       "<IPython.core.display.Image object>"
      ]
     },
     "execution_count": 19,
     "metadata": {},
     "output_type": "execute_result"
    }
   ],
   "source": [
    "# necessary because the image is originally very big\n",
    "from IPython.display import Image\n",
    "from IPython.core.display import HTML \n",
    "Image(url= \"https://img.tfd.com/hc/bio/fig153.jpg\", width=400, height=100) "
   ]
  },
  {
   "cell_type": "markdown",
   "metadata": {},
   "source": [
    "One thing to say however is that, although the above illustration shows the potential of a membrane \"at rest\" is negative, we will assume it to be 0mV to simplify our calculations. It should be understood this will not impact our conclusions since we are only concerned about the transmission of the signal rather than the signal itself. Moreover, at the time Hodgkin and Huxely developed their model, it was still thought the resting potential of the membrane was 0. \n",
    "\n",
    "Now that the basics of the biological model have been explained, we will present the Hodgkin-Huxley model. \n",
    "\n",
    "#### The Hodgkin-Huxley model\n",
    "The model represents the neuron fiber membrane by the following eletrical circuit:\n",
    "![Hodgkin-Huxley representation of the neuron fiber membrane](http://icwww.epfl.ch/~gerstner/SPNM/img92.gif)\n",
    "<br>Here the capacitor represents the membrane, the components \"K\" and \"Na\" represents the channels through which ions can flow in and out of the fiber. Finally the constant resistance represents a third kind of ion leakage channel. The inflowing current represents the current coming into the fiber when an action potential has been initiated. \n",
    "The model provides equations to obtain the current through the \"K\", \"Na\" and constant resistance channels. Using the current rule, we can obtain the current through the capacitor as such: \n",
    "$$ I_C = I - (I_N + I_K + I_R)$$\n",
    "Then, we can obtain the change in the membrane's potential by deriving the following differential equation: \n",
    "$$ C = \\frac{Q}{u} $$ (u is the membrane's potential / capacitor voltage). Then the previous equation becomes\n",
    "$$ C \\frac{du}{dt} = I - (I_N + I_K + I_R) $$ and we assumed previously that $$ u(t_0) = 0 mV $$\n",
    "\n",
    "<b>More detailed equation</b>: \n",
    "$$ I_N = g_N m^3 h (u - E_N)$$\n",
    "$$ I_K = g_K n^4 (u - E_K)$$\n",
    "$$ I_R = g_L (u - E_L)$$\n",
    "Since the membrane voltage u and the current in are times dependent, we get the following equation\n",
    "$$ \\frac{du}{dt} = C [I - g_N m^3 h (u - E_N) - g_K n^4 (u - E_K) - g_L (u - E_L)] $$\n",
    "<br>Where the values of the above constants are such: ![Constants of the HH model](http://icwww.epfl.ch/~gerstner/SPNM/img97.gif)"
   ]
  },
  {
   "cell_type": "markdown",
   "metadata": {},
   "source": [
    "## Setup\n",
    "#### General outline\n",
    "As said above, we will be representing a neuron as a succession of circuits in parallel to represent different pieces of the membrane. Each of the circuits will follow the representation given by the Hodgkin-Huxley model. To trigger the action potential we will simulate a very short current spike, which will go through the first circuit of the membrane. Here is a visual representation similar to what will be done here:\n",
    "\n",
    "![cable theory image](https://ars.els-cdn.com/content/image/1-s2.0-S1878778915000320-gr3.jpg)\n",
    "\n",
    "<br>To accomplish this, we define a class representing the simple ciruit of the model. The class will keep track of different value properties as well as contain method to implement the equations for the m, n and h coefficients as well as the currents through the capacitor."
   ]
  },
  {
   "cell_type": "code",
   "execution_count": 18,
   "metadata": {},
   "outputs": [],
   "source": [
    "# Necessary libraries for the programming portion\n",
    "import numpy as np              ## numpy is a library that inclues most of the numerical funciton you will need\n",
    "import matplotlib.pyplot as plt ## this is the library we use to plot\n",
    "from math import exp            ## used for diff eq of the Hodgkin-Huxley model"
   ]
  },
  {
   "cell_type": "code",
   "execution_count": 14,
   "metadata": {},
   "outputs": [],
   "source": [
    "class HHcircuit: # Representation of the circuit of the HH model, physically represents \n",
    "                 # membrane and ion channels of a neuron fiber\n",
    "        \n",
    "    def __init__(self, gNa, gK, gL, C, mu, E_Na, E_K, E_L): # constructor\n",
    "        self.gNa = gNa\n",
    "        self.gK = gK\n",
    "        self.gL = gL\n",
    "        self.m = 0.0\n",
    "        self.n = 0.0\n",
    "        self.h = 0.0\n",
    "        self.C = C\n",
    "        self.mu = mu\n",
    "        \n",
    "        self.E_Na = E_Na\n",
    "        self.E_K = E_K\n",
    "        self.E_L = E_L\n",
    "        \n",
    "        self.recorded_mu = []\n",
    "        \n",
    "    def update_m(self, dt): # updates m using diff eqs of HH model\n",
    "        alpha_m = (2.5-0.1*self.mu)/(exp(2.5-0.1*self.mu) - 1)\n",
    "        beta_m = 4*exp(-self.mu / 18)\n",
    "        dm = dt * (alpha_m*(1-self.m) - beta_m*self.m)\n",
    "        self.m += dm\n",
    "        return self.m\n",
    "    \n",
    "    def update_n(self, dt): # updates n using diff eqs of HH model\n",
    "        alpha_n = (0.1-0.01*self.mu)/(exp(1-0.1*self.mu) - 1)\n",
    "        beta_n = 0.125*exp(-self.mu / 80)\n",
    "        dn = dt * (alpha_n*(1-self.n) - beta_n*self.n)\n",
    "        self.n += dn\n",
    "        return self.n\n",
    "    \n",
    "    def update_h(self, dt): # updates h using diff eqs of HH model\n",
    "        alpha_h = 0.07*exp(-self.mu / 20)\n",
    "        beta_h = 1 / (exp(3-0.1*self.mu)+1)\n",
    "        dh = dt * (alpha_h*(1-self.h) - beta_h*self.h)\n",
    "        self.h += dh\n",
    "        return self.h\n",
    "    \n",
    "    def sum_I_channels(self): # returns current through capacitor \n",
    "        s = 0\n",
    "        s += self.gNa* (self.m)**3 *self.h*(self.mu-self.E_Na)\n",
    "        s += self.gK* (self.n)**4 *(self.mu-self.E_K)\n",
    "        s += self.gL*(self.mu - self.E_L)\n",
    "        return s"
   ]
  },
  {
   "cell_type": "markdown",
   "metadata": {},
   "source": [
    "We also store the physiological constants we will need:"
   ]
  },
  {
   "cell_type": "code",
   "execution_count": 15,
   "metadata": {},
   "outputs": [],
   "source": [
    "# assuming rest membrane potential of 0 mV\n",
    "E_Na = 115.0 # mV\n",
    "E_K = -12.0\n",
    "E_L = 10.6\n",
    "gNa = 120.0 # mS/cm^2\n",
    "gK = 36.0\n",
    "gL = 0.3\n",
    "mu0 = 0.0 # assumes rest potential of membrane is 0mV"
   ]
  },
  {
   "cell_type": "markdown",
   "metadata": {},
   "source": [
    "#### Preliminary check\n",
    "We can check the current simplified model we have makes sense by only using one capacitor and running a current pulse through it. It should represent what happens at a lower scale of what we will do later. Moreover, the code will serve as a shell for our further developments. \n",
    "We will verify the model makes sense by obtaining and plotting the membrane potential at different times and see if it matches known scientifical results. \n",
    "<br>For this we first define a short function that returns an array of the membrane's voltage and an array of the different corresponding times. We will then plot the results"
   ]
  },
  {
   "cell_type": "code",
   "execution_count": 20,
   "metadata": {},
   "outputs": [],
   "source": [
    "def run_experiment(T, I_peak, C): \n",
    "    neuron = HHcircuit(gNa, gK, gL, C, mu0, E_Na, E_K, E_L)\n",
    "    recorded_mu = []\n",
    "    times = []\n",
    "\n",
    "    t_steps = 10000\n",
    "    dt = T / t_steps\n",
    "    t = 0.0 # ms\n",
    "\n",
    "    first_pass = False # enables to have a current peak of duration dt only\n",
    "\n",
    "    for i in range(t_steps):\n",
    "        # update HH model coefficients\n",
    "        neuron.update_n(dt)\n",
    "        neuron.update_m(dt)\n",
    "        neuron.update_h(dt)\n",
    "\n",
    "        # Update voltage through Capacitor (membrane)\n",
    "        sum_currents = I_peak - neuron.sum_I_channels()\n",
    "\n",
    "        d_mu = sum_currents / neuron.C * dt\n",
    "        neuron.mu += d_mu\n",
    "\n",
    "        # save and update data\n",
    "        recorded_mu.append(neuron.mu)\n",
    "        times.append(t)\n",
    "        t += dt\n",
    "        \n",
    "        # makes sure the current peak is just a pulse of duration dt\n",
    "        if not first_pass: \n",
    "            I_peak = 0.0\n",
    "            first_pass == True\n",
    "    \n",
    "    return recorded_mu, times"
   ]
  },
  {
   "cell_type": "code",
   "execution_count": 23,
   "metadata": {},
   "outputs": [
    {
     "ename": "NameError",
     "evalue": "name 'I_channels' is not defined",
     "output_type": "error",
     "traceback": [
      "\u001b[0;31m---------------------------------------------------------------------------\u001b[0m",
      "\u001b[0;31mNameError\u001b[0m                                 Traceback (most recent call last)",
      "\u001b[0;32m<ipython-input-23-914f645d89d5>\u001b[0m in \u001b[0;36m<module>\u001b[0;34m()\u001b[0m\n\u001b[1;32m      1\u001b[0m \u001b[0;31m# Plotting the results\u001b[0m\u001b[0;34m\u001b[0m\u001b[0;34m\u001b[0m\u001b[0m\n\u001b[0;32m----> 2\u001b[0;31m \u001b[0mrecorded_mu\u001b[0m\u001b[0;34m,\u001b[0m \u001b[0mtimes\u001b[0m \u001b[0;34m=\u001b[0m \u001b[0mrun_experiment\u001b[0m\u001b[0;34m(\u001b[0m\u001b[0;36m50.0\u001b[0m\u001b[0;34m,\u001b[0m \u001b[0;36m100.0\u001b[0m\u001b[0;34m,\u001b[0m \u001b[0;36m1.0\u001b[0m\u001b[0;34m)\u001b[0m\u001b[0;34m\u001b[0m\u001b[0m\n\u001b[0m\u001b[1;32m      3\u001b[0m \u001b[0;34m\u001b[0m\u001b[0m\n\u001b[1;32m      4\u001b[0m \u001b[0mplt\u001b[0m\u001b[0;34m.\u001b[0m\u001b[0mplot\u001b[0m\u001b[0;34m(\u001b[0m\u001b[0mtimes\u001b[0m\u001b[0;34m,\u001b[0m \u001b[0mrecorded_mu\u001b[0m\u001b[0;34m)\u001b[0m\u001b[0;34m\u001b[0m\u001b[0m\n\u001b[1;32m      5\u001b[0m \u001b[0mplt\u001b[0m\u001b[0;34m.\u001b[0m\u001b[0mxlabel\u001b[0m\u001b[0;34m(\u001b[0m\u001b[0;34m\"time (ms)\"\u001b[0m\u001b[0;34m)\u001b[0m\u001b[0;34m\u001b[0m\u001b[0m\n",
      "\u001b[0;32m<ipython-input-20-eee64f54777b>\u001b[0m in \u001b[0;36mrun_experiment\u001b[0;34m(T, I_peak, C)\u001b[0m\n\u001b[1;32m     27\u001b[0m         \u001b[0mt\u001b[0m \u001b[0;34m+=\u001b[0m \u001b[0mdt\u001b[0m\u001b[0;34m\u001b[0m\u001b[0m\n\u001b[1;32m     28\u001b[0m \u001b[0;34m\u001b[0m\u001b[0m\n\u001b[0;32m---> 29\u001b[0;31m         \u001b[0mI_channels\u001b[0m\u001b[0;34m.\u001b[0m\u001b[0mappend\u001b[0m\u001b[0;34m(\u001b[0m\u001b[0mneuron\u001b[0m\u001b[0;34m.\u001b[0m\u001b[0msum_I_channels\u001b[0m\u001b[0;34m(\u001b[0m\u001b[0;34m)\u001b[0m\u001b[0;34m)\u001b[0m\u001b[0;34m\u001b[0m\u001b[0m\n\u001b[0m\u001b[1;32m     30\u001b[0m \u001b[0;34m\u001b[0m\u001b[0m\n\u001b[1;32m     31\u001b[0m         \u001b[0;31m# makes sure the current peak is just a pulse of duration dt\u001b[0m\u001b[0;34m\u001b[0m\u001b[0;34m\u001b[0m\u001b[0m\n",
      "\u001b[0;31mNameError\u001b[0m: name 'I_channels' is not defined"
     ]
    }
   ],
   "source": [
    "# Plotting the results\n",
    "recorded_mu, times = run_experiment(50.0, 100.0, 1.0)\n",
    "\n",
    "plt.plot(times, recorded_mu)\n",
    "plt.xlabel(\"time (ms)\")\n",
    "plt.ylabel(\"Membrane potential (mV)\")\n",
    "plt.title(\"After spike in current of length dt\")\n",
    "plt.show()\n"
   ]
  },
  {
   "cell_type": "code",
   "execution_count": null,
   "metadata": {},
   "outputs": [],
   "source": []
  },
  {
   "cell_type": "markdown",
   "metadata": {},
   "source": [
    "### Results and Conclusions"
   ]
  },
  {
   "cell_type": "markdown",
   "metadata": {},
   "source": [
    "### Sources\n",
    "[1]"
   ]
  },
  {
   "cell_type": "code",
   "execution_count": null,
   "metadata": {},
   "outputs": [],
   "source": []
  }
 ],
 "metadata": {
  "kernelspec": {
   "display_name": "Python 3",
   "language": "python",
   "name": "python3"
  },
  "language_info": {
   "codemirror_mode": {
    "name": "ipython",
    "version": 3
   },
   "file_extension": ".py",
   "mimetype": "text/x-python",
   "name": "python",
   "nbconvert_exporter": "python",
   "pygments_lexer": "ipython3",
   "version": "3.6.5"
  }
 },
 "nbformat": 4,
 "nbformat_minor": 2
}
