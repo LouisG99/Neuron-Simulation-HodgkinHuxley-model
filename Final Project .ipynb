{
 "cells": [
  {
   "cell_type": "markdown",
   "metadata": {},
   "source": [
    "## Hodgkin-Huxley model\n",
    "\n",
    "### intro or smth like that\n",
    "\n",
    "## Notes for the moment\n",
    "\n",
    "### Notes on description of model\n",
    "Models formlates current such that:\n",
    "* $\\displaystyle \\sum_{k}^{}$Ik = gNa m^3 h (u - ENa) + gK n^4 (u - EK) + gL (u - EL).\n",
    "\n",
    "If all channels open, transmit current with max conductance gNa and gK respectively (other channel has constant conductance given as 1/R)\n",
    "\n",
    "<li>ENa, EK and EL, AND the conducatances are empirical parameters, and are the reversal potentials:\n",
    "<li><b>Reversal potential:</b> reversal potential of an ion is membrane potential at which no net low of that particular ion fom one side of membrane to the other</li>\n",
    "<i>Original value of these parameters reported by Hodgkin and Huxley are given on website http://icwww.epfl.ch/~gerstner/SPNM/node14.html.</i><br>\n",
    "NOTE: need to shift voltage values by -65mV because those were given with a resting potential assumed to be 0, but not the case\n",
    "</li>\n",
    "\n",
    "#### m, n and h:\n",
    "are called the \"gating variables\" and evolve according to differential eqs (given on websit). Those equations include alpha and beta factors that both are expressions of the membrane volatage mu. \n",
    "\n",
    "### Notes on dynamics of model\n",
    "<li>m and n increase with mu, while h decrease (graph of this to support it)</li>\n",
    "<li> --> if some external input cause membrane voltage mu to rise, conductance of Na channels increase --> positive Na ions flow into cell and raise even further membrane potential mu. If large enough --> action potential initiated.</li>\n",
    "<li><b>Threshold type behavior:</b>action potential (which is a traveling spike in membrane potential) is initiated by a peak in current. If that peak in current is not high enough, don't get high large-soike excursion, but just small var. </li>\n",
    "<li><b>Pulling the membrane voltage back down:</b>the K+ channel is outward so when open, it lowers potential. --> Overall effect is large spike in potential, and then h factor and K+ channel pull it back down (with a temp overshoot since temporarly get potential below rest potential.</li>\n",
    "<li><b>With constant input current:</b> if I larger than some critical value known (I_theta) observe regular spiking in membrane potential. </li>\n",
    "<li><b>Step current input:</b> whether triggers action potential or not depends on both the constant current value and the spike value too.</li> \n",
    "<li><b>Interesting element, refratoriness:</b> during hyperpolarization period followed action potential due to input current, neuron incapable of reacting to same input current</li>\n",
    "\n",
    "\n",
    "### What type of current input is associated with vision stimulus from retina? \n",
    "\n",
    "#### Additional Notes:\n",
    "Also need to figure out: <ul>\n",
    "    <li>Do I have to take into account the what happens with synapses too?</li>\n",
    "    <li>How much time needed to send response signal once signal reached brain?</li>\n",
    "    <li>How long is the path from retina to brain and from brain to right arm?</li>\n",
    "    <li><b>Example situation that will be chosen for project:</b> to make things more dramatic, will assume you are in a boxing match, and see your opponent's arm starting to move towards your face. Assume arm moving at 5 m/s (maybe change that val later), assuming separation between you two is 1.5m, at what distance from your face will arm be when start reacting?</li>\n",
    "    <li>Ask papa for length of neuronal path, time for brain to analyze signal, what happens in synapses, etc</li>\n",
    "    </ul>\n",
    "    \n",
    "### Setup so far: \n",
    "<ul>\n",
    "    <li>Decided would start by modeling one neuron with length <i>1 cm</i></li>\n",
    "    <li>Seems like each cicuit represents a part of the axon <b><i>parallel</i></b> to the direction the signal is being transmitted --> pick axon length, number of segments to cut it in, and associate a distinct ciruit with each of those (need to store the different parameters associated with each of them --> make a class that contains all variables need for circuit and make array of instances of that object). </li> \n",
    "    <li>What wanna \"plot\"/see evolve is the membrane voltage. Relation with current given on website --> calculate current to get mu. "
   ]
  },
  {
   "cell_type": "code",
   "execution_count": 1,
   "metadata": {},
   "outputs": [],
   "source": [
    "import numpy as np              ## numpy is a library that inclues most of the numerical funciton you will need\n",
    "import matplotlib.pyplot as plt ## this is the library we use to plot\n",
    "from math import exp            ## used for diff eq of the Hodgkin-Huxley model"
   ]
  },
  {
   "cell_type": "code",
   "execution_count": 2,
   "metadata": {},
   "outputs": [],
   "source": [
    "class HHcircuit: # Representation of the circuit of the HH model, physically represents \n",
    "                 # membrane and ion channels of a neuron fiber\n",
    "        \n",
    "    def __init__(self, gNa, gK, gL, C, mu, E_Na, E_K, E_L): # constructor\n",
    "        self.gNa = gNa\n",
    "        self.gK = gK\n",
    "        self.gL = gL\n",
    "        self.m = 0.0\n",
    "        self.n = 0.0\n",
    "        self.h = 0.0\n",
    "        self.C = C\n",
    "        self.mu = mu\n",
    "        \n",
    "        self.E_Na = E_Na\n",
    "        self.E_K = E_K\n",
    "        self.E_L = E_L\n",
    "        \n",
    "        self.recorded_mu = []\n",
    "        \n",
    "    def update_m(self, dt): # updates m using diff eqs of HH model\n",
    "        alpha_m = (2.5-0.1*self.mu)/(exp(2.5-0.1*self.mu) - 1)\n",
    "        beta_m = 4*exp(-self.mu / 18)\n",
    "        dm = dt * (alpha_m*(1-self.m) - beta_m*self.m)\n",
    "        self.m += dm\n",
    "        return self.m\n",
    "    \n",
    "    def update_n(self, dt): # updates n using diff eqs of HH model\n",
    "        alpha_n = (0.1-0.01*self.mu)/(exp(1-0.1*self.mu) - 1)\n",
    "        beta_n = 0.125*exp(-self.mu / 80)\n",
    "        dn = dt * (alpha_n*(1-self.n) - beta_n*self.n)\n",
    "        self.n += dn\n",
    "        return self.n\n",
    "    \n",
    "    def update_h(self, dt): # updates h using diff eqs of HH model\n",
    "        alpha_h = 0.07*exp(-self.mu / 20)\n",
    "        beta_h = 1 / (exp(3-0.1*self.mu)+1)\n",
    "        dh = dt * (alpha_h*(1-self.h) - beta_h*self.h)\n",
    "        self.h += dh\n",
    "        return self.h\n",
    "    \n",
    "    def sum_I_channels(self): # returns current through capacitor \n",
    "        s = 0\n",
    "        s += self.gNa* (self.m)**3 *self.h*(self.mu-self.E_Na)\n",
    "        s += self.gK* (self.n)**4 *(self.mu-self.E_K)\n",
    "        s += self.gL*(self.mu - self.E_L)\n",
    "        return s"
   ]
  },
  {
   "cell_type": "code",
   "execution_count": 3,
   "metadata": {},
   "outputs": [],
   "source": [
    "### Numerical values, obtained from experiments\n",
    "\n",
    "# non shifted values\n",
    "E_Na = 115.0 # mV\n",
    "E_K = -12.0\n",
    "E_L = 10.6\n",
    "gNa = 120.0 # mS/cm^2\n",
    "gK = 36.0\n",
    "gL = 0.3\n",
    "mu0 = 0.0 # assumes rest potential of membrane is 0mV\n",
    "\n",
    "# # C_rate = 1.0  # microFarads / cm^2\n",
    "# C = 2.0 # to verify"
   ]
  },
  {
   "cell_type": "code",
   "execution_count": 4,
   "metadata": {},
   "outputs": [],
   "source": [
    "def run_experiment(T, I_peak, C): \n",
    "    neuron = HHcircuit(gNa, gK, gL, C, mu0, E_Na, E_K, E_L)\n",
    "    recorded_mu = []\n",
    "    times = []\n",
    "\n",
    "    t_steps = 10000\n",
    "    dt = T / t_steps\n",
    "    t = 0.0 # ms\n",
    "\n",
    "    first_pass = False # enables to have a current peak of duration dt only\n",
    "\n",
    "    #temp \n",
    "    I_channels = []\n",
    "\n",
    "    for i in range(t_steps):\n",
    "        # update HH model coefficients\n",
    "        neuron.update_n(dt)\n",
    "        neuron.update_m(dt)\n",
    "        neuron.update_h(dt)\n",
    "\n",
    "        # Update voltage through Capacitor (membrane)\n",
    "        sum_currents = I_peak - neuron.sum_I_channels()\n",
    "\n",
    "        d_mu = sum_currents / neuron.C * dt\n",
    "        neuron.mu += d_mu\n",
    "\n",
    "        # save and update data\n",
    "        recorded_mu.append(neuron.mu)\n",
    "        times.append(t)\n",
    "        t += dt\n",
    "\n",
    "        I_channels.append(neuron.sum_I_channels())\n",
    "        \n",
    "        # makes sure the current peak is just a pulse of duration dt\n",
    "        if not first_pass: \n",
    "            I_peak = 0.0\n",
    "            first_pass == True\n",
    "    \n",
    "    return recorded_mu, times, I_channels\n"
   ]
  },
  {
   "cell_type": "code",
   "execution_count": 5,
   "metadata": {},
   "outputs": [
    {
     "data": {
      "image/png": "[encoded data removed]",
      "text/plain": [
       "<Figure size 432x288 with 1 Axes>"
      ]
     },
     "metadata": {},
     "output_type": "display_data"
    },
    {
     "data": {
      "image/png": "[encoded data removed]",
      "text/plain": [
       "<Figure size 432x288 with 1 Axes>"
      ]
     },
     "metadata": {},
     "output_type": "display_data"
    }
   ],
   "source": [
    "recorded_mu, times, I_channels = run_experiment(50.0, 100.0, 1.0)\n",
    "\n",
    "plt.plot(times, recorded_mu)\n",
    "plt.xlabel(\"time (ms)\")\n",
    "plt.ylabel(\"Membrane potential (mV)\")\n",
    "plt.title(\"After spike in current of length dt\")\n",
    "plt.show()\n",
    "\n",
    "# plt.plot(times, I_out)\n",
    "plt.plot(times, I_channels)\n",
    "plt.xlabel(\"time (ms)\")\n",
    "plt.ylabel(\"Current in Capacitor\")\n",
    "plt.title(\"After spike in current of length dt\")\n",
    "plt.show()"
   ]
  },
  {
   "cell_type": "code",
   "execution_count": 292,
   "metadata": {},
   "outputs": [],
   "source": [
    "# find period of \n",
    "def find_period(recorded_mu, times):\n",
    "    axis_cross = 0\n",
    "    for i in range(1, len(recorded_mu)-1):\n",
    "        # checks if 2 values in a row are of different sign (indicates x-axis cross)\n",
    "        if recorded_mu[i]/recorded_mu[i-1] < 0: \n",
    "            axis_cross += 1\n",
    "        if axis_cross == 2:\n",
    "            return times[i]\n",
    "    return 2*times[-1]\n",
    "\n",
    "def diff_2_peaks(mus1, mus2, times):\n",
    "    maxV = -1.0\n",
    "    i1 = 0\n",
    "#     i2 = 0\n",
    "    for i in range(len(times)):\n",
    "        if (mus1[i]>maxV):\n",
    "            maxV = mus1[i]\n",
    "            i1 = i\n",
    "        \n",
    "        if (mus2[i]==maxV):\n",
    "            return times[i]-times[i1]"
   ]
  },
  {
   "cell_type": "code",
   "execution_count": 293,
   "metadata": {},
   "outputs": [],
   "source": [
    "capacitances = np.linspace(0.5, 10.0, num=50)\n",
    "\n",
    "periods = []\n",
    "first = True\n",
    "times = []\n",
    "\n",
    "for C_i in capacitances:\n",
    "    mus, t, _ = run_experiment(100.0, 100.0, C_i)\n",
    "    if first:\n",
    "        first = False \n",
    "        times = t\n",
    "    T = find_period(mus, times)\n",
    "    periods.append(T)"
   ]
  },
  {
   "cell_type": "code",
   "execution_count": 294,
   "metadata": {},
   "outputs": [
    {
     "data": {
      "image/png": "[encoded data removed]",
      "text/plain": [
       "<Figure size 432x288 with 1 Axes>"
      ]
     },
     "metadata": {},
     "output_type": "display_data"
    }
   ],
   "source": [
    "plt.plot(capacitances, periods)\n",
    "plt.xlabel(\"Capacitance of the membrane (microF)\")\n",
    "plt.ylabel(\"Periods of the potential signal (ms)\")\n",
    "plt.title(\"Linearity between membrane capacitance and message transmission time\")\n",
    "plt.show()"
   ]
  },
  {
   "cell_type": "code",
   "execution_count": null,
   "metadata": {},
   "outputs": [],
   "source": []
  },
  {
   "cell_type": "markdown",
   "metadata": {},
   "source": [
    "Can see <b>linear relation</b> ... \n",
    "Considering neuron fibers of same fiber and diameter, capactance directly proportional to length of neuron fiber. --> can use the period time as a way of measuring time it takes action potential to travel through entire fiber --> given know length of fiberm can obtain speed\n",
    "\n",
    "BUT small irregularities --> will use several values and average it out"
   ]
  },
  {
   "cell_type": "code",
   "execution_count": 295,
   "metadata": {},
   "outputs": [
    {
     "name": "stdout",
     "output_type": "stream",
     "text": [
      "4.693684210525902\n"
     ]
    }
   ],
   "source": [
    "# Calculate slope from previous data \n",
    "slope = (periods[-1] - periods[0]) / (capacitances[-1] - capacitances[0])\n",
    "print(slope)"
   ]
  },
  {
   "cell_type": "code",
   "execution_count": 296,
   "metadata": {},
   "outputs": [
    {
     "name": "stdout",
     "output_type": "stream",
     "text": [
      "0.3390831934005694 3.3908319340056945\n",
      "0.6283185307179586 2.9491287668117163\n"
     ]
    }
   ],
   "source": [
    "# Scientifically known numerical values\n",
    "diam_fiber = 2.0e-1 # cm\n",
    "C_per_area = 1.0 # microF/cm^2\n",
    "\n",
    "neuron_length = 1.0 # cm \n",
    "area = np.pi * diam_fiber * neuron_length # cm^2\n",
    "C = area * C_per_area # microF/cm^2\n",
    "period_signal = C * slope # ms \n",
    "\n",
    "speed = neuron_length / period_signal # cm / ms\n",
    "converted_speed = speed*10**-2/10**-3 # m/s\n",
    "print(speed, converted_speed)\n",
    "print(area, period_signal)"
   ]
  },
  {
   "cell_type": "markdown",
   "metadata": {},
   "source": [
    "just make it up"
   ]
  },
  {
   "cell_type": "markdown",
   "metadata": {},
   "source": [
    "## Trying version with the different circuits"
   ]
  },
  {
   "cell_type": "code",
   "execution_count": 315,
   "metadata": {},
   "outputs": [
    {
     "name": "stdout",
     "output_type": "stream",
     "text": [
      "5000000\n"
     ]
    }
   ],
   "source": [
    "C_per_area = 1.0 # microF/cm^2\n",
    "diam_fiber = 3.0e-1 # cm\n",
    "neuron_length = 10.0 # cm \n",
    "area = np.pi * diam_fiber * neuron_length # cm^2\n",
    "C = area * C_per_area # microF/cm^2\n",
    "\n",
    "I_peak = 1.0\n",
    "\n",
    "R_cyto_per_L = 00.0 # ohms/cm\n",
    "\n",
    "L_steps = 50\n",
    "dL = neuron_length / L_steps\n",
    "dC = np.pi * diam_fiber * dL * C_per_area\n",
    "\n",
    "R_L = neuron_length * R_cyto_per_L\n",
    "dR = dL * R_cyto_per_L\n",
    "\n",
    "I_central = []\n",
    "mus_array = []\n",
    "neurons_array = []\n",
    "\n",
    "\n",
    "n = HHcircuit(gNa, gK, gL, dC, mu0, E_Na, E_K, E_L)\n",
    "\n",
    "for i in range(L_steps): \n",
    "    neurons_array.append(n)\n",
    "    mus_array.append([])\n",
    "    I_central.append(0)\n",
    "\n",
    "I_central[0] = I_in\n",
    "times = []\n",
    "T = 1.0 # ms\n",
    "t_steps = 100000\n",
    "dt = T / t_steps\n",
    "t = 0.0 # ms\n",
    "\n",
    "I_n50 = [0]\n",
    "\n",
    "count = 0\n",
    "\n",
    "for t_i in range(t_steps): \n",
    "    \n",
    "    for x in range(L_steps):\n",
    "        neuron = neurons_array[x]\n",
    "        # update HH model coefficients\n",
    "#         neuron.update_n(dt)\n",
    "#         neuron.update_m(dt)\n",
    "#         neuron.update_h(dt)\n",
    "        # Update voltage through Capacitor (membrane)\n",
    "        sum_currents = I_central[x] - neuron.sum_I_channels()\n",
    "        d_mu = sum_currents / neuron.C * dt\n",
    "        neuron.mu += d_mu\n",
    "\n",
    "        # save and update data\n",
    "        neurons_array[x] = neuron\n",
    "        \n",
    "        neuron.update_n(dt)\n",
    "        neuron.update_m(dt)\n",
    "        neuron.update_h(dt)\n",
    "        \n",
    "        mus_array[x].append(neuron.mu)\n",
    "            \n",
    "        if x==0: \n",
    "            dV_dx = 0.0\n",
    "            \n",
    "        else:\n",
    "            dV_dx = (mus_array[x][-1] - mus_array[x-1][-1]) / dL\n",
    "        I_central[x] = - dR * dV_dx\n",
    "        \n",
    "        if I_central[x] ==0:\n",
    "            count += 1\n",
    "        \n",
    "        if x==50 and t_i>0: \n",
    "            I_n50.append(-dR * dV_dx)\n",
    "        \n",
    "    times.append(t)\n",
    "    t += dt\n",
    "print(count)"
   ]
  },
  {
   "cell_type": "code",
   "execution_count": 316,
   "metadata": {},
   "outputs": [
    {
     "data": {
      "image/png": "[encoded data removed]",
      "text/plain": [
       "<Figure size 432x288 with 1 Axes>"
      ]
     },
     "metadata": {},
     "output_type": "display_data"
    }
   ],
   "source": [
    "plt.plot(times, mus_array[-1])\n",
    "plt.plot(times, mus_array[0])\n",
    "plt.show()"
   ]
  },
  {
   "cell_type": "code",
   "execution_count": 317,
   "metadata": {},
   "outputs": [
    {
     "data": {
      "image/png": "[encoded data removed]",
      "text/plain": [
       "<Figure size 432x288 with 1 Axes>"
      ]
     },
     "metadata": {},
     "output_type": "display_data"
    }
   ],
   "source": [
    "T = []\n",
    "for mu in mus_array:\n",
    "    T.append(find_period(mu, times))\n",
    "\n",
    "plt.scatter([i for i in range(L_steps)], T)\n",
    "\n",
    "plt.show()"
   ]
  },
  {
   "cell_type": "code",
   "execution_count": 318,
   "metadata": {},
   "outputs": [
    {
     "name": "stdout",
     "output_type": "stream",
     "text": [
      "1.9999799999961676\n",
      "0.10000100001019173\n",
      "0.10000100001019162\n",
      "1.0000100001019163\n"
     ]
    }
   ],
   "source": [
    "print(T[1])\n",
    "print(dL/T[1])\n",
    "speed = neuron_length / sum(T)\n",
    "print(speed)\n",
    "print(speed*10**-2 / 10**-3)"
   ]
  },
  {
   "cell_type": "code",
   "execution_count": 319,
   "metadata": {},
   "outputs": [
    {
     "name": "stdout",
     "output_type": "stream",
     "text": [
      "None\n"
     ]
    }
   ],
   "source": [
    "diff = diff_2_peaks(mus_array[0], mus_array[-1], times)\n",
    "print(diff)"
   ]
  },
  {
   "cell_type": "code",
   "execution_count": 314,
   "metadata": {},
   "outputs": [
    {
     "name": "stdout",
     "output_type": "stream",
     "text": [
      "0.0004691887722349076 0.00048364849557543685\n"
     ]
    }
   ],
   "source": [
    "t = 0\n",
    "print(mus_array[0][t], mus_array[1][t])"
   ]
  },
  {
   "cell_type": "code",
   "execution_count": null,
   "metadata": {},
   "outputs": [],
   "source": []
  }
 ],
 "metadata": {
  "kernelspec": {
   "display_name": "Python 3",
   "language": "python",
   "name": "python3"
  },
  "language_info": {
   "codemirror_mode": {
    "name": "ipython",
    "version": 3
   },
   "file_extension": ".py",
   "mimetype": "text/x-python",
   "name": "python",
   "nbconvert_exporter": "python",
   "pygments_lexer": "ipython3",
   "version": "3.6.5"
  }
 },
 "nbformat": 4,
 "nbformat_minor": 2
}
