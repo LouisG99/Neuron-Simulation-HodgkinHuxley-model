{
 "cells": [
  {
   "cell_type": "markdown",
   "metadata": {},
   "source": [
    "## Hodgkin-Huxley model\n",
    "\n",
    "### intro or smth like that\n",
    "\n",
    "## Notes for the moment\n",
    "\n",
    "### Notes on description of model\n",
    "Models formlates current such that:\n",
    "* $\\displaystyle \\sum_{k}^{}$Ik = gNa m^3 h (u - ENa) + gK n^4 (u - EK) + gL (u - EL).\n",
    "\n",
    "If all channels open, transmit current with max conductance gNa and gK respectively (other channel has constant conductance given as 1/R)\n",
    "\n",
    "<li>ENa, EK and EL, AND the conducatances are empirical parameters, and are the reversal potentials:\n",
    "<li><b>Reversal potential:</b> reversal potential of an ion is membrane potential at which no net low of that particular ion fom one side of membrane to the other</li>\n",
    "<i>Original value of these parameters reported by Hodgkin and Huxley are given on website http://icwww.epfl.ch/~gerstner/SPNM/node14.html.</i><br>\n",
    "NOTE: need to shift voltage values by -65mV because those were given with a resting potential assumed to be 0, but not the case\n",
    "</li>\n",
    "\n",
    "#### m, n and h:\n",
    "are called the \"gating variables\" and evolve according to differential eqs (given on websit). Those equations include alpha and beta factors that both are expressions of the membrane volatage mu. \n",
    "\n",
    "### Notes on dynamics of model\n",
    "<li>m and n increase with mu, while h decrease (graph of this to support it)</li>\n",
    "<li> --> if some external input cause membrane voltage mu to rise, conductance of Na channels increase --> positive Na ions flow into cell and raise even further membrane potential mu. If large enough --> action potential initiated.</li>\n",
    "<li><b>Threshold type behavior:</b>action potential (which is a traveling spike in membrane potential) is initiated by a peak in current. If that peak in current is not high enough, don't get high large-soike excursion, but just small var. </li>\n",
    "<li><b>Pulling the membrane voltage back down:</b>the K+ channel is outward so when open, it lowers potential. --> Overall effect is large spike in potential, and then h factor and K+ channel pull it back down (with a temp overshoot since temporarly get potential below rest potential.</li>\n",
    "<li><b>With constant input current:</b> if I larger than some critical value known (I_theta) observe regular spiking in membrane potential. </li>\n",
    "<li><b>Step current input:</b> whether triggers action potential or not depends on both the constant current value and the spike value too.</li> \n",
    "<li><b>Interesting element, refratoriness:</b> during hyperpolarization period followed action potential due to input current, neuron incapable of reacting to same input current</li>\n",
    "\n",
    "\n",
    "### What type of current input is associated with vision stimulus from retina? \n",
    "\n",
    "#### Additional Notes:\n",
    "Also need to figure out: <ul>\n",
    "    <li>Do I have to take into account the what happens with synapses too?</li>\n",
    "    <li>How much time needed to send response signal once signal reached brain?</li>\n",
    "    <li>How long is the path from retina to brain and from brain to right arm?</li>\n",
    "    <li><b>Example situation that will be chosen for project:</b> to make things more dramatic, will assume you are in a boxing match, and see your opponent's arm starting to move towards your face. Assume arm moving at 5 m/s (maybe change that val later), assuming separation between you two is 1.5m, at what distance from your face will arm be when start reacting?</li>\n",
    "    <li>Ask papa for length of neuronal path, time for brain to analyze signal, what happens in synapses, etc</li>\n",
    "    </ul>\n",
    "    \n",
    "### Setup so far: \n",
    "<ul>\n",
    "    <li>Decided would start by modeling one neuron with length <i>1 cm</i></li>\n",
    "    <li>Seems like each cicuit represents a part of the axon <b><i>parallel</i></b> to the direction the signal is being transmitted --> pick axon length, number of segments to cut it in, and associate a distinct ciruit with each of those (need to store the different parameters associated with each of them --> make a class that contains all variables need for circuit and make array of instances of that object). </li> \n",
    "    <li>What wanna \"plot\"/see evolve is the membrane voltage. Relation with current given on website --> calculate current to get mu. "
   ]
  },
  {
   "cell_type": "code",
   "execution_count": 1,
   "metadata": {},
   "outputs": [],
   "source": [
    "import numpy as np              ## numpy is a library that inclues most of the numerical funciton you will need\n",
    "import matplotlib.pyplot as plt ## this is the library we use to plot\n",
    "from math import exp            ## used for diff eq of the Hodgkin-Huxley model"
   ]
  },
  {
   "cell_type": "code",
   "execution_count": 2,
   "metadata": {},
   "outputs": [],
   "source": [
    "class HHcircuit: # Representation of the circuit of the HH model, physically represents \n",
    "                 # membrane and ion channels of a neuron fiber\n",
    "        \n",
    "    def __init__(self, gNa, gK, gL, C, mu, E_Na, E_K, E_L): # constructor\n",
    "        self.gNa = gNa\n",
    "        self.gK = gK\n",
    "        self.gL = gL\n",
    "        self.m = 0.0\n",
    "        self.n = 0.0\n",
    "        self.h = 0.0\n",
    "        self.C = C\n",
    "        self.mu = mu\n",
    "        \n",
    "        self.E_Na = E_Na\n",
    "        self.E_K = E_K\n",
    "        self.E_L = E_L\n",
    "        \n",
    "        self.recorded_mu = []\n",
    "        \n",
    "    def update_m(self, dt): # updates m using diff eqs of HH model\n",
    "        alpha_m = (2.5-0.1*self.mu)/(exp(2.5-0.1*self.mu) - 1)\n",
    "        beta_m = 4*exp(-self.mu / 18)\n",
    "        dm = dt * (alpha_m*(1-self.m) - beta_m*self.m)\n",
    "        self.m += dm\n",
    "        return self.m\n",
    "    \n",
    "    def update_n(self, dt): # updates n using diff eqs of HH model\n",
    "        alpha_n = (0.1-0.01*self.mu)/(exp(1-0.1*self.mu) - 1)\n",
    "        beta_n = 0.125*exp(-self.mu / 80)\n",
    "        dn = dt * (alpha_n*(1-self.n) - beta_n*self.n)\n",
    "        self.n += dn\n",
    "        return self.n\n",
    "    \n",
    "    def update_h(self, dt): # updates h using diff eqs of HH model\n",
    "        alpha_h = 0.07*exp(-self.mu / 20)\n",
    "        beta_h = 1 / (exp(3-0.1*self.mu)+1)\n",
    "        dh = dt * (alpha_h*(1-self.h) - beta_h*self.h)\n",
    "        self.h += dh\n",
    "        return self.h\n",
    "    \n",
    "    def sum_I_channels(self): # returns current through capacitor \n",
    "        s = 0\n",
    "        s += self.gNa* (self.m)**3 *self.h*(self.mu-self.E_Na)\n",
    "        s += self.gK* (self.n)**4 *(self.mu-self.E_K)\n",
    "        s += self.gL*(self.mu - self.E_L)\n",
    "        return s"
   ]
  },
  {
   "cell_type": "code",
   "execution_count": 48,
   "metadata": {},
   "outputs": [],
   "source": [
    "### Numerical values, obtained from experiments\n",
    "# E_Na = 50.0 #mV\n",
    "# E_K = -77.0\n",
    "# E_L = -54.4\n",
    "# gNa = 120.0 # mS/cm^2\n",
    "# gK = 36.0\n",
    "# gL = 0.3\n",
    "# mu0 = -65.0 # value given by shift from paper\n",
    "\n",
    "# non shifted values\n",
    "E_Na = 115.0 # mV\n",
    "E_K = -12.0\n",
    "E_L = 10.6\n",
    "gNa = 120.0 # mS/cm^2\n",
    "gK = 36.0\n",
    "gL = 0.3\n",
    "mu0 = 0.0 # assumes rest potential of membrane is 0mV\n",
    "\n",
    "# C_rate = 1.0  # microFarads / cm^2\n",
    "C = 2.0 # to verify"
   ]
  },
  {
   "cell_type": "code",
   "execution_count": 189,
   "metadata": {},
   "outputs": [],
   "source": [
    "def run_experiment(T, I_peak, C): \n",
    "    neuron = HHcircuit(gNa, gK, gL, C, mu0, E_Na, E_K, E_L)\n",
    "    recorded_mu = []\n",
    "    times = []\n",
    "\n",
    "    t_steps = 10000\n",
    "    dt = T / t_steps\n",
    "    t = 0.0 # ms\n",
    "\n",
    "    first_pass = False # enables to have a current peak of duration dt only\n",
    "\n",
    "    #temp \n",
    "#     I_out = []\n",
    "    I_channels = []\n",
    "#     speeds = []\n",
    "#     I_C = []\n",
    "#     I_p = []\n",
    "\n",
    "    for i in range(t_steps):\n",
    "        # update HH model coefficients\n",
    "        neuron.update_n(dt)\n",
    "        neuron.update_m(dt)\n",
    "        neuron.update_h(dt)\n",
    "\n",
    "        # Update voltage through Capacitor (membrane)\n",
    "        sum_currents = I_peak - neuron.sum_I_channels()\n",
    "        I_C.append(sum_currents)\n",
    "\n",
    "        d_mu = sum_currents / neuron.C * dt\n",
    "        neuron.mu += d_mu\n",
    "\n",
    "        # save and update data\n",
    "        recorded_mu.append(neuron.mu)\n",
    "        times.append(t)\n",
    "        t += dt\n",
    "\n",
    "    #     I_out.append(C*d_mu/dt + sum_currents)\n",
    "        I_out.append(sum_currents)\n",
    "        I_channels.append(neuron.sum_I_channels())\n",
    "        I_p.append(I_peak)\n",
    "\n",
    "        # makes sure the current peak is just a pulse of duration dt\n",
    "        if not first_pass: \n",
    "            I_peak = 0.0\n",
    "            first_pass == True\n",
    "    \n",
    "    return recorded_mu, times, I_channels\n"
   ]
  },
  {
   "cell_type": "code",
   "execution_count": 190,
   "metadata": {},
   "outputs": [
    {
     "data": {
      "image/png": "[encoded data removed]",
      "text/plain": [
       "<Figure size 432x288 with 1 Axes>"
      ]
     },
     "metadata": {},
     "output_type": "display_data"
    },
    {
     "data": {
      "image/png": "[encoded data removed]",
      "text/plain": [
       "<Figure size 432x288 with 1 Axes>"
      ]
     },
     "metadata": {},
     "output_type": "display_data"
    }
   ],
   "source": [
    "recorded_mu, times, I_channels = run_experiment(50.0, 100.0, 1.0)\n",
    "\n",
    "plt.plot(times, recorded_mu)\n",
    "plt.xlabel(\"time (ms)\")\n",
    "plt.ylabel(\"Membrane potential (mV)\")\n",
    "plt.title(\"After spike in current of length dt (\"+str(dt)+\" ms)\")\n",
    "plt.show()\n",
    "\n",
    "# plt.plot(times, I_out)\n",
    "plt.plot(times, I_channels)\n",
    "plt.xlabel(\"time (ms)\")\n",
    "plt.ylabel(\"Current in Capacitor\")\n",
    "plt.title(\"After spike in current of length dt (\"+str(dt)+\" ms)\")\n",
    "plt.show()"
   ]
  },
  {
   "cell_type": "code",
   "execution_count": 195,
   "metadata": {},
   "outputs": [],
   "source": [
    "# find period of \n",
    "def find_period(recorded_mu, times):\n",
    "    axis_cross = 0\n",
    "    for i in range(1, len(recorded_mu)-1):\n",
    "        # checks if 2 values in a row are of different sign (indicates x-axis cross)\n",
    "        if recorded_mu[i]/recorded_mu[i-1] < 0: \n",
    "            axis_cross += 1\n",
    "        if axis_cross == 2:\n",
    "            return times[i]\n",
    "    return 2*times[-1]"
   ]
  },
  {
   "cell_type": "code",
   "execution_count": 204,
   "metadata": {},
   "outputs": [],
   "source": [
    "capacitances = np.linspace(0.5, 10.0, num=50)\n",
    "\n",
    "periods = []\n",
    "first = True\n",
    "times = []\n",
    "\n",
    "for C_i in capacitances:\n",
    "    mus, t, _ = run_experiment(100.0, 100.0, C_i)\n",
    "    if first:\n",
    "        first = False \n",
    "        times = t\n",
    "    T = find_period(mus, times)\n",
    "    periods.append(T)"
   ]
  },
  {
   "cell_type": "code",
   "execution_count": 205,
   "metadata": {},
   "outputs": [
    {
     "data": {
      "image/png": "[encoded data removed]",
      "text/plain": [
       "<Figure size 432x288 with 1 Axes>"
      ]
     },
     "metadata": {},
     "output_type": "display_data"
    }
   ],
   "source": [
    "plt.plot(capacitances, periods)\n",
    "plt.xlabel(\"Capacitance of the membrane (microF)\")\n",
    "plt.ylabel(\"Periods of the potential signal (ms)\")\n",
    "plt.title(\"Linearity between membrane capacitance and message transmission time\")\n",
    "plt.show()"
   ]
  },
  {
   "cell_type": "code",
   "execution_count": null,
   "metadata": {},
   "outputs": [],
   "source": []
  },
  {
   "cell_type": "markdown",
   "metadata": {},
   "source": [
    "Can see <b>linear relation</b> ... \n",
    "Considering neuron fibers of same fiber and diameter, capactance directly proportional to length of neuron fiber. --> can use the period time as a way of measuring time it takes action potential to travel through entire fiber --> given know length of fiberm can obtain speed\n",
    "\n",
    "BUT small irregularities --> will use several values and average it out"
   ]
  },
  {
   "cell_type": "code",
   "execution_count": 199,
   "metadata": {},
   "outputs": [
    {
     "name": "stdout",
     "output_type": "stream",
     "text": [
      "4.693684210525902\n"
     ]
    }
   ],
   "source": [
    "# Calculate slope from previous data \n",
    "slope = (periods[-1] - periods[0]) / (capacitances[-1] - capacitances[0])\n",
    "print(slope)"
   ]
  },
  {
   "cell_type": "code",
   "execution_count": 208,
   "metadata": {},
   "outputs": [
    {
     "name": "stdout",
     "output_type": "stream",
     "text": [
      "0.6781663868011388 6.781663868011389\n"
     ]
    }
   ],
   "source": [
    "# Scientifically known numerical values\n",
    "diam_fiber = 10.0e-2 # micro_m\n",
    "C_per_area = 1.0 # microF/cm^2\n",
    "\n",
    "neuron_length = 1.0 # cm \n",
    "area = np.pi * diam_fiber * neuron_length # cm^2\n",
    "C = area * C_per_area # microF/cm^2\n",
    "period_signal = C * slope # ms \n",
    "\n",
    "speed = neuron_length / period_signal # cm / ms\n",
    "converted_speed = speed*10**-2/10**-3 # m/s\n",
    "print(speed, converted_speed)"
   ]
  },
  {
   "cell_type": "code",
   "execution_count": 187,
   "metadata": {},
   "outputs": [],
   "source": [
    "# Scientifically known numerical values\n",
    "diam_fiber = 10.0e-2 # micro_m\n",
    "C_per_area = 1.0 # microF/cm^2\n",
    "\n",
    "lengths = np.linspace(10.0, 70.0, num=20) # cm\n",
    "capacitances = C_per_area * np.pi * diam_fiber * lengths\n",
    "# print(capacitances[-])\n",
    "\n",
    "velocities = []\n",
    "t = []\n",
    "mus = []\n",
    "mus0 = []\n",
    "for i in range(len(capacitances)): \n",
    "    mus, t, _ = run_experiment(20.0, 100.0, capacitances[i])\n",
    "    if i==0:\n",
    "        mus0 = mus\n",
    "    T = find_period(mus, t)\n",
    "    v = T / lengths[i]\n",
    "    velocities.append(v)\n",
    "\n"
   ]
  },
  {
   "cell_type": "code",
   "execution_count": 188,
   "metadata": {},
   "outputs": [
    {
     "data": {
      "image/png": "[encoded data removed]",
      "text/plain": [
       "<Figure size 432x288 with 1 Axes>"
      ]
     },
     "metadata": {},
     "output_type": "display_data"
    },
    {
     "data": {
      "image/png": "[encoded data removed]",
      "text/plain": [
       "<Figure size 432x288 with 1 Axes>"
      ]
     },
     "metadata": {},
     "output_type": "display_data"
    },
    {
     "data": {
      "image/png": "[encoded data removed]",
      "text/plain": [
       "<Figure size 432x288 with 1 Axes>"
      ]
     },
     "metadata": {},
     "output_type": "display_data"
    }
   ],
   "source": [
    "plt.plot(capacitances, velocities)\n",
    "plt.show()\n",
    "plt.plot(times, mus)\n",
    "plt.show()\n",
    "plt.plot(times, mus0)\n",
    "plt.show()"
   ]
  },
  {
   "cell_type": "code",
   "execution_count": null,
   "metadata": {},
   "outputs": [],
   "source": [
    "# Trying eq 7 method \n",
    "# Membrane represented by capacitor so I_membrane = I_C\n",
    "\n",
    "# exp specifications \n",
    "L = 1.0 # cm \n",
    "length_steps = 100\n",
    "dL = L/length_steps\n",
    "\n",
    "C_per_area = 1.0e-6 # Farads/cm^2\n",
    "\n",
    "D = 1.0e-3 # cm, diameter of neuron fiber\n",
    "R = D/2\n",
    "dArea = np.pi * R**2 * dL\n",
    "dC = C_per_area * dArea\n",
    "\n",
    "a = 5.0e-7 # cm, membrane thickness\n",
    "\n",
    "R_a_per_cm = 100 # ohms/cm\n",
    "R_a = R_a_per_cm * L\n",
    "\n",
    "\n",
    "velocities = []\n",
    "for i in range(1, len(times)-1):\n",
    "    deriv2nd = abs(recorded_mu[i+1]-2*recorded_mu[i]+recorded_mu[i-1]) / dt**2\n",
    "    I = I_C[i]\n",
    "    \n",
    "    v_square = deriv2nd * a / abs(2*I*R_a)\n",
    "    velocities.append(v_square**0.5)\n",
    "\n",
    "plt.plot(times[1:-1], velocities)\n",
    "plt.show()"
   ]
  },
  {
   "cell_type": "markdown",
   "metadata": {},
   "source": [
    "https://www.sciencedirect.com/science/article/pii/B9780080450469014133 read this to understand and figure out eq to get action potential speed\n",
    "\n",
    "Question now is how do I used this to make several of these circuits in series? \n",
    "Should just be circuit in series so basically all I need is figure out output current of each of these circuits\n",
    "\n",
    "<b> need to figure out how to find velocity of action potentials</b>\n",
    "<ul>\n",
    "    <li>First: try to find stuff online</li>\n",
    "    <li>Maybe can use formula with current density that gives speed of charge carriers (but feel like thatd be the speed of ions flowing in and out of the membrane</li>\n",
    "    <li>OR, can just find period of peak and use length of \"part of axion\", but dont really see how that links to a continuous case</li>\n",
    "    </ul>\n",
    "    \n",
    "  cytoplasmic axial resistance value: 100 ohms cm (https://link.springer.com/content/pdf/10.1007%2F978-1-4614-7320-6_35-2.pdf) \n",
    "  \n",
    "  https://www.quora.com/Why-does-nerve-conduction-velocity-scale-with-the-diameter-of-the-nerve diameters of nerve fibers and speeds of action potentials\n",
    "  \n",
    "  https://en.wikipedia.org/wiki/Optic_nerve#Structure diameter of optic nerve (4.5mm)\n",
    "  \n",
    "  http://www.math.pitt.edu/~bdoiron/assets/ermentrout-and-terman-ch-1.pdf (1.21):\n",
    "      eq for velocity: I(x, t) = -pi*a^(2/r_l dV_m(x,t)/dx) \n",
    "      \n",
    "      \n",
    "  http://umdberg.pbworks.com/w/page/84111850/Capacitance%20in%20nerve%20cells dimensions of axons"
   ]
  },
  {
   "cell_type": "markdown",
   "metadata": {},
   "source": [
    " NEW STRATEGY: \n",
    "   <b>Iterative approach</b>:\n",
    "   Try out different speeds and see which one produces normal signal\n",
    "   <ul>\n",
    "    <li>Have evolution of signal for one neuron --> pick speed and see if anything gives something similar</li>\n",
    "    \n",
    "    \n",
    "    \n",
    "    \n",
    "    NEWWWWW\n",
    "    have input current --> calculte amount that goes into first circuit --> rest goes to next circuit. Current in first circuit then reverses --> fed back into main channel and so on... \n",
    "    CAn see when reached end of fiber by seenig when last circuit reaches max voltage OR when current through last circuit is 0 again \n",
    "    To find current that goes into first circuit, could just assume everything goes into it "
   ]
  },
  {
   "cell_type": "code",
   "execution_count": 151,
   "metadata": {},
   "outputs": [
    {
     "ename": "NameError",
     "evalue": "name 'time_step' is not defined",
     "output_type": "error",
     "traceback": [
      "\u001b[0;31m---------------------------------------------------------------------------\u001b[0m",
      "\u001b[0;31mNameError\u001b[0m                                 Traceback (most recent call last)",
      "\u001b[0;32m<ipython-input-151-b4605b8ec1a2>\u001b[0m in \u001b[0;36m<module>\u001b[0;34m()\u001b[0m\n\u001b[1;32m     17\u001b[0m \u001b[0mT\u001b[0m \u001b[0;34m=\u001b[0m \u001b[0;36m100.0\u001b[0m \u001b[0;31m# ms\u001b[0m\u001b[0;34m\u001b[0m\u001b[0m\n\u001b[1;32m     18\u001b[0m \u001b[0mtime_steps\u001b[0m \u001b[0;34m=\u001b[0m \u001b[0;36m1000\u001b[0m\u001b[0;34m\u001b[0m\u001b[0m\n\u001b[0;32m---> 19\u001b[0;31m \u001b[0mdt\u001b[0m \u001b[0;34m=\u001b[0m \u001b[0mT\u001b[0m \u001b[0;34m/\u001b[0m \u001b[0mtime_step\u001b[0m\u001b[0;34m\u001b[0m\u001b[0m\n\u001b[0m\u001b[1;32m     20\u001b[0m \u001b[0mt\u001b[0m \u001b[0;34m=\u001b[0m \u001b[0;36m0.0\u001b[0m\u001b[0;34m\u001b[0m\u001b[0m\n\u001b[1;32m     21\u001b[0m \u001b[0mI_peak\u001b[0m \u001b[0;34m=\u001b[0m \u001b[0;36m100.0\u001b[0m\u001b[0;34m\u001b[0m\u001b[0m\n",
      "\u001b[0;31mNameError\u001b[0m: name 'time_step' is not defined"
     ]
    }
   ],
   "source": [
    "#\n",
    "\n",
    "# exp specifications \n",
    "L = 1.0 # cm \n",
    "length_steps = 100\n",
    "dL = L/length_steps\n",
    "\n",
    "C_per_area = 1.0e-6 # Farads/cm^2\n",
    "\n",
    "D = 1.0e-3 # cm, diameter of neuron fiber\n",
    "R = D/2\n",
    "dArea = np.pi * R**2 * dL\n",
    "dC = C_per_area * dArea\n",
    "\n",
    "a = 5.0e-7 # cm, membrane thickness\n",
    "\n",
    "T = 100.0 # ms\n",
    "time_steps = 1000\n",
    "dt = T / time_step\n",
    "t = 0.0 \n",
    "I_peak = 100.0\n",
    "\n",
    "\n",
    "# creating objects\n",
    "times = []\n",
    "n = HHcircuit(gNa, gK, gL, C, mu0, E_Na, E_K, E_L)\n",
    "neurons_array = []\n",
    "neurons_reached = []\n",
    "for i in range(length_steps):\n",
    "    neurons.append(n)\n",
    "    neurons_reached.append(False)\n",
    "\n",
    "index_prev = -1\n",
    "index_curr = 0\n",
    "\n",
    "I_central = I_peak\n",
    "I_previous = 0.0\n",
    "    \n",
    "while index_curr < len(neurons_reached): \n",
    "    I_in = I_central\n",
    "    \n",
    "    n_prev = neurons_array[index_prev]\n",
    "    n_curr = neurons_array[index_array]\n",
    "    \n",
    "    n_prev.update_n(dt)\n",
    "    n_prev.update_m(dt)\n",
    "    n_prev.update_h(dt)\n",
    "    \n",
    "    sum_currents_prev = I_previous - n_prev.sum_I_channels()\n",
    "    d_mu_prev = sum_currents_prev / n_prev.C * dt\n",
    "    n_prev.mu += d_mu_prev\n",
    "    I_out = n_prev.C*d_mu/dt + sum_currents_prev\n",
    "\n",
    "\n",
    "    \n",
    "    \n",
    "    n_curr.update_n(dt)\n",
    "    n_curr.update_m(dt)\n",
    "    n_curr.update_h(dt)\n",
    "    sum_currents_curr = I_in - n_curr.sum_I_channels()\n",
    "    d_mu_curr = sum_currents_curr / n_curr.C * dt\n",
    "    n_curr.mu += d_mu_curr\n",
    "    \n",
    "    \n",
    "    \n",
    "    I_out = C*d_mu/dt + sum_currents\n",
    "\n",
    "\n",
    "    t += dt\n",
    "    times.append(t)\n",
    "    \n",
    "    "
   ]
  },
  {
   "cell_type": "code",
   "execution_count": null,
   "metadata": {},
   "outputs": [],
   "source": []
  }
 ],
 "metadata": {
  "kernelspec": {
   "display_name": "Python 3",
   "language": "python",
   "name": "python3"
  },
  "language_info": {
   "codemirror_mode": {
    "name": "ipython",
    "version": 3
   },
   "file_extension": ".py",
   "mimetype": "text/x-python",
   "name": "python",
   "nbconvert_exporter": "python",
   "pygments_lexer": "ipython3",
   "version": "3.6.5"
  }
 },
 "nbformat": 4,
 "nbformat_minor": 2
}
