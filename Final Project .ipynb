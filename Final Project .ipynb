{
 "cells": [
  {
   "cell_type": "markdown",
   "metadata": {},
   "source": [
    "## Hodgkin-Huxley model\n",
    "\n",
    "### intro or smth like that\n",
    "\n",
    "## Notes for the moment\n",
    "\n",
    "### Notes on description of model\n",
    "Models formlates current such that:\n",
    "* $\\displaystyle \\sum_{k}^{}$Ik = gNa m^3 h (u - ENa) + gK n^4 (u - EK) + gL (u - EL).\n",
    "\n",
    "If all channels open, transmit current with max conductance gNa and gK respectively (other channel has constant conductance given as 1/R)\n",
    "\n",
    "<li>ENa, EK and EL, AND the conducatances are empirical parameters, and are the reversal potentials:\n",
    "<li><b>Reversal potential:</b> reversal potential of an ion is membrane potential at which no net low of that particular ion fom one side of membrane to the other</li>\n",
    "<i>Original value of these parameters reported by Hodgkin and Huxley are given on website http://icwww.epfl.ch/~gerstner/SPNM/node14.html.</i><br>\n",
    "NOTE: need to shift voltage values by -65mV because those were given with a resting potential assumed to be 0, but not the case\n",
    "</li>\n",
    "\n",
    "#### m, n and h:\n",
    "are called the \"gating variables\" and evolve according to differential eqs (given on websit). Those equations include alpha and beta factors that both are expressions of the membrane volatage mu. \n",
    "\n",
    "### Notes on dynamics of model\n",
    "<li>m and n increase with mu, while h decrease (graph of this to support it)</li>\n",
    "<li> --> if some external input cause membrane voltage mu to rise, conductance of Na channels increase --> positive Na ions flow into cell and raise even further membrane potential mu. If large enough --> action potential initiated.</li>\n",
    "<li><b>Threshold type behavior:</b>action potential (which is a traveling spike in membrane potential) is initiated by a peak in current. If that peak in current is not high enough, don't get high large-soike excursion, but just small var. </li>\n",
    "<li><b>Pulling the membrane voltage back down:</b>the K+ channel is outward so when open, it lowers potential. --> Overall effect is large spike in potential, and then h factor and K+ channel pull it back down (with a temp overshoot since temporarly get potential below rest potential.</li>\n",
    "<li><b>With constant input current:</b> if I larger than some critical value known (I_theta) observe regular spiking in membrane potential. </li>\n",
    "<li><b>Step current input:</b> whether triggers action potential or not depends on both the constant current value and the spike value too.</li> \n",
    "<li><b>Interesting element, refratoriness:</b> during hyperpolarization period followed action potential due to input current, neuron incapable of reacting to same input current</li>\n",
    "\n",
    "\n",
    "### What type of current input is associated with vision stimulus from retina? \n",
    "\n",
    "#### Additional Notes:\n",
    "Also need to figure out: <ul>\n",
    "    <li>Do I have to take into account the what happens with synapses too?</li>\n",
    "    <li>How much time needed to send response signal once signal reached brain?</li>\n",
    "    <li>How long is the path from retina to brain and from brain to right arm?</li>\n",
    "    <li><b>Example situation that will be chosen for project:</b> to make things more dramatic, will assume you are in a boxing match, and see your opponent's arm starting to move towards your face. Assume arm moving at 5 m/s (maybe change that val later), assuming separation between you two is 1.5m, at what distance from your face will arm be when start reacting?</li>\n",
    "    <li>Ask papa for length of neuronal path, time for brain to analyze signal, what happens in synapses, etc</li>\n",
    "    </ul>\n",
    "    \n",
    "### Setup so far: \n",
    "<ul>\n",
    "    <li>Decided would start by modeling one neuron with length <i>1 cm</i></li>\n",
    "    <li>Seems like each cicuit represents a part of the axon <b><i>parallel</i></b> to the direction the signal is being transmitted --> pick axon length, number of segments to cut it in, and associate a distinct ciruit with each of those (need to store the different parameters associated with each of them --> make a class that contains all variables need for circuit and make array of instances of that object). </li> \n",
    "    <li>What wanna \"plot\"/see evolve is the membrane voltage. Relation with current given on website --> calculate current to get mu. "
   ]
  },
  {
   "cell_type": "code",
   "execution_count": 42,
   "metadata": {},
   "outputs": [],
   "source": [
    "import numpy as np                         ## numpy is a library that inclues most of the numerical funciton you will need\n",
    "import matplotlib.pyplot as plt            ## this is the library we use to plot\n",
    "from math import exp"
   ]
  },
  {
   "cell_type": "code",
   "execution_count": 58,
   "metadata": {},
   "outputs": [],
   "source": [
    "class HHcircuit: \n",
    "    def __init__(self, gNa, gK, gL, C, mu, E_Na, E_K, E_L):\n",
    "        self.gNa = gNa\n",
    "        self.gK = gK\n",
    "        self.gL = gL\n",
    "        self.m = 0.0\n",
    "        self.n = 0.0\n",
    "        self.h = 0.0\n",
    "        self.C = C\n",
    "        self.mu = mu\n",
    "        \n",
    "        self.E_Na = E_Na\n",
    "        self.E_K = E_K\n",
    "        self.E_L = E_L\n",
    "        \n",
    "    def update_m(self, dt):\n",
    "        alpha_m = (2.5-0.1*self.mu)/(exp(2.5-0.1*self.mu) - 1)\n",
    "        beta_m = 4*exp(-self.mu / 18)\n",
    "        \n",
    "        dm = dt * (alpha_m*(1-self.m) - beta_m*self.m)\n",
    "        self.m += dm\n",
    "        return self.m\n",
    "    \n",
    "    def update_n(self, dt):\n",
    "        alpha_n = (0.1-0.01*self.mu)/(exp(1-0.1*self.mu) - 1)\n",
    "        beta_n = 0.125*exp(-self.mu / 80)\n",
    "        \n",
    "        dn = dt * (alpha_n*(1-self.n) - beta_n*self.n)\n",
    "        self.n += dn\n",
    "        return self.n\n",
    "    \n",
    "    def update_h(self, dt):\n",
    "        alpha_h = 0.07*exp(-self.mu / 20)\n",
    "        beta_h = 1 / (exp(3-0.1*self.mu)+1)\n",
    "        \n",
    "        dh = dt * (alpha_h*(1-self.h) - beta_h*self.h)\n",
    "        self.h += dh\n",
    "        return self.h\n",
    "    \n",
    "    def sum_I_channels(self): \n",
    "        s = 0\n",
    "        s += self.gNa* (self.m)**3 *self.h*(self.mu-self.E_Na)\n",
    "        s += self.gK* (self.n)**4 *(self.mu-self.E_K)\n",
    "        s += self.gL*(self.mu - self.E_L)\n",
    "        return s"
   ]
  },
  {
   "cell_type": "code",
   "execution_count": 59,
   "metadata": {},
   "outputs": [],
   "source": [
    "# x = HHcircuit(0,0,0,0,0,0,0, 0)\n",
    "# x.update_m(1)"
   ]
  },
  {
   "cell_type": "code",
   "execution_count": 122,
   "metadata": {},
   "outputs": [],
   "source": [
    "# Numerical values, obtained from experiments\n",
    "# E_Na = 50.0 #mV\n",
    "# E_K = -77.0\n",
    "# E_L = -54.4\n",
    "# gNa = 120.0 # mS/cm^2\n",
    "# gK = 36.0\n",
    "# gL = 0.3\n",
    "# mu0 = -65.0 # value given by shift from paper\n",
    "\n",
    "# non shifted values\n",
    "E_Na = 115.0 #mV\n",
    "E_K = -12.0\n",
    "E_L = 10.6\n",
    "gNa = 120.0 # mS/cm^2\n",
    "gK = 36.0\n",
    "gL = 0.3\n",
    "mu0 = 0.0 # assumes rest potential of membrane is 0mV\n",
    "\n",
    "C = 1.0 # to verify\n",
    "\n",
    "# creating necessary objects\n",
    "neuron = HHcircuit(gNa, gK, gL, C, mu0, E_Na, E_K, E_L)\n",
    "recorded_mu = []\n",
    "times = []\n",
    "\n",
    "# parameters of experimental run\n",
    "T = 25.0# ms \n",
    "t_steps = 10000\n",
    "dt = T / t_steps\n",
    "t = 0.0\n",
    "I_peak = 100.0\n",
    "\n",
    "first_pass = False # enables to have a current peak of duration dt only\n",
    "\n",
    "#temp \n",
    "I_out = []\n",
    "\n",
    "\n",
    "for i in range(t_steps):\n",
    "    neuron.update_n(dt)\n",
    "    neuron.update_m(dt)\n",
    "    neuron.update_h(dt)\n",
    "    \n",
    "    sum_currents = I_peak - neuron.sum_I_channels()\n",
    "    d_mu = sum_currents / neuron.C * dt\n",
    "    neuron.mu += d_mu\n",
    "    \n",
    "    # save values\n",
    "    recorded_mu.append(neuron.mu)\n",
    "    times.append(t)\n",
    "    t += dt\n",
    "    \n",
    "    I_out.append(C*d_mu/dt + sum_currents)\n",
    "    \n",
    "    if not first_pass:\n",
    "        I_peak = 0.0\n",
    "        first_pass = True\n"
   ]
  },
  {
   "cell_type": "code",
   "execution_count": 129,
   "metadata": {},
   "outputs": [
    {
     "data": {
      "image/png": "[encoded data removed]",
      "text/plain": [
       "<Figure size 432x288 with 1 Axes>"
      ]
     },
     "metadata": {},
     "output_type": "display_data"
    },
    {
     "data": {
      "image/png": "[encoded data removed]",
      "text/plain": [
       "<Figure size 432x288 with 1 Axes>"
      ]
     },
     "metadata": {},
     "output_type": "display_data"
    }
   ],
   "source": [
    "plt.plot(times, recorded_mu)\n",
    "plt.xlabel(\"time (ms)\")\n",
    "plt.ylabel(\"Membrane potential\")\n",
    "plt.title(\"After spike in current of length dt (\"+str(dt)+\"ms)\")\n",
    "plt.show()\n",
    "\n",
    "plt.plot(times, I_out)\n",
    "plt.xlabel(\"time (ms)\")\n",
    "plt.ylabel(\"Current out (using paper formula)\")\n",
    "plt.title(\"After spike in current of length dt (\"+str(dt)+\"ms)\")\n",
    "plt.show()"
   ]
  },
  {
   "cell_type": "markdown",
   "metadata": {},
   "source": [
    "https://www.sciencedirect.com/science/article/pii/B9780080450469014133 read this to understand and figure out eq to get action potential speed\n",
    "\n",
    "Question now is how do I used this to make several of these circuits in series? \n",
    "Should just be circuit in series so basically all I need is figure out output current of each of these circuits\n",
    "\n",
    "<b> need to figure out how to find velocity of action potentials</b>\n",
    "<ul>\n",
    "    <li>First: try to find stuff online</li>\n",
    "    <li>Maybe can use formula with current density that gives speed of charge carriers (but feel like thatd be the speed of ions flowing in and out of the membrane</li>\n",
    "    <li>OR, can just find period of peak and use length of \"part of axion\", but dont really see how that links to a continuous case</li>"
   ]
  },
  {
   "cell_type": "code",
   "execution_count": null,
   "metadata": {},
   "outputs": [],
   "source": []
  }
 ],
 "metadata": {
  "kernelspec": {
   "display_name": "Python 3",
   "language": "python",
   "name": "python3"
  },
  "language_info": {
   "codemirror_mode": {
    "name": "ipython",
    "version": 3
   },
   "file_extension": ".py",
   "mimetype": "text/x-python",
   "name": "python",
   "nbconvert_exporter": "python",
   "pygments_lexer": "ipython3",
   "version": "3.6.5"
  }
 },
 "nbformat": 4,
 "nbformat_minor": 2
}
